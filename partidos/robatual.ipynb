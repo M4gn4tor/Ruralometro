{
 "cells": [
  {
   "cell_type": "code",
   "execution_count": 1,
   "metadata": {},
   "outputs": [],
   "source": [
    "# -*- coding: utf-8\n",
    "# Repórter Brasil (http://ruralometro.reporterbrasil.org.br/)\n",
    "# Reinaldo Chaves (@paidatocandeira)\n",
    "# Faz raspagem no site da Câmara dos Deputados para pegar partidos atuais de deputados\n",
    "#"
   ]
  },
  {
   "cell_type": "code",
   "execution_count": 1,
   "metadata": {},
   "outputs": [],
   "source": [
    "from urllib.request import urlopen"
   ]
  },
  {
   "cell_type": "code",
   "execution_count": 2,
   "metadata": {},
   "outputs": [],
   "source": [
    "from bs4 import BeautifulSoup"
   ]
  },
  {
   "cell_type": "code",
   "execution_count": 3,
   "metadata": {},
   "outputs": [],
   "source": [
    "import urllib.request, urllib.parse, urllib.error"
   ]
  },
  {
   "cell_type": "code",
   "execution_count": 2,
   "metadata": {},
   "outputs": [],
   "source": [
    "import pandas as pd"
   ]
  },
  {
   "cell_type": "code",
   "execution_count": null,
   "metadata": {},
   "outputs": [],
   "source": []
  },
  {
   "cell_type": "code",
   "execution_count": 5,
   "metadata": {},
   "outputs": [],
   "source": [
    "# Acessa base com sites dos deputados - base obtida no robofoto.ipynb"
   ]
  },
  {
   "cell_type": "code",
   "execution_count": 21,
   "metadata": {},
   "outputs": [],
   "source": [
    "links = pd.read_csv(\"dia22_11_politicos.csv\",sep=',',encoding = 'utf_8')"
   ]
  },
  {
   "cell_type": "code",
   "execution_count": 22,
   "metadata": {},
   "outputs": [
    {
     "name": "stdout",
     "output_type": "stream",
     "text": [
      "<class 'pandas.core.frame.DataFrame'>\n",
      "RangeIndex: 513 entries, 0 to 512\n",
      "Data columns (total 6 columns):\n",
      "Nome_site         342 non-null object\n",
      "Num_referencia    342 non-null float64\n",
      "Link              513 non-null object\n",
      "Link_foto         513 non-null object\n",
      "Nome_candidato    513 non-null object\n",
      "CPF               513 non-null int64\n",
      "dtypes: float64(1), int64(1), object(4)\n",
      "memory usage: 24.1+ KB\n"
     ]
    }
   ],
   "source": [
    "links.info()"
   ]
  },
  {
   "cell_type": "code",
   "execution_count": null,
   "metadata": {},
   "outputs": [],
   "source": []
  },
  {
   "cell_type": "code",
   "execution_count": 23,
   "metadata": {},
   "outputs": [],
   "source": [
    "# Cria uma lista com os partidos dos deputados e sinalizando se estão no cargo ou não"
   ]
  },
  {
   "cell_type": "code",
   "execution_count": null,
   "metadata": {},
   "outputs": [],
   "source": [
    "def prepara_sopa(url):\n",
    "    html = urlopen(url)\n",
    "    sopa = BeautifulSoup(html, \"lxml\")\n",
    "    return sopa\n",
    "\n",
    "lista_deputados = []\n",
    "\n",
    "for linha, row in links.iterrows():\n",
    "    exato = 0 \n",
    "    nocargo = \"Sim\"\n",
    "    url = (row['Link'])\n",
    "    #print(url)\n",
    "    cpf = (row['CPF'])\n",
    "    nome = (row['Nome_site'])\n",
    "    sopa = prepara_sopa(url)\n",
    "    \n",
    "    # Seleciona o trecho onde está o partido\n",
    "    partido_uf_tipo = (sopa.find(\"ul\",{\"class\":\"visualNoMarker\"}).\n",
    "         find_all(\"li\")[2].getText())\n",
    "    \n",
    "    localiza = partido_uf_tipo.find(':')\n",
    "    exato = localiza + 1\n",
    "    isola = partido_uf_tipo[exato:]\n",
    "    \n",
    "    tamanho = (len(isola)-14)\n",
    "    \n",
    "    partido_atual = isola[:tamanho].strip()\n",
    "    #print(partido_atual)\n",
    "    \n",
    "    if sopa.findAll(text=\"*** não está em exercício ***\"):\n",
    "        nocargo = \"Não\"\n",
    "    else:\n",
    "        nocargo = \"Sim\"\n",
    "        \n",
    "    #print(nocargo)\n",
    "\n",
    "    lista_deputados.append([url, cpf, nome, partido_atual, nocargo])"
   ]
  },
  {
   "cell_type": "code",
   "execution_count": null,
   "metadata": {},
   "outputs": [],
   "source": []
  },
  {
   "cell_type": "code",
   "execution_count": 25,
   "metadata": {},
   "outputs": [],
   "source": [
    "# Cria dataframe a partir da lista"
   ]
  },
  {
   "cell_type": "code",
   "execution_count": 26,
   "metadata": {},
   "outputs": [],
   "source": [
    "deputados_partidos = pd.DataFrame(lista_deputados, columns = ['Link', 'CPF', 'Nome', 'Partido_atual', 'Esta_no_cargo'])"
   ]
  },
  {
   "cell_type": "code",
   "execution_count": 27,
   "metadata": {},
   "outputs": [
    {
     "name": "stdout",
     "output_type": "stream",
     "text": [
      "<class 'pandas.core.frame.DataFrame'>\n",
      "RangeIndex: 513 entries, 0 to 512\n",
      "Data columns (total 5 columns):\n",
      "Link             513 non-null object\n",
      "CPF              513 non-null int64\n",
      "Nome             342 non-null object\n",
      "Partido_atual    513 non-null object\n",
      "Esta_no_cargo    513 non-null object\n",
      "dtypes: int64(1), object(4)\n",
      "memory usage: 20.1+ KB\n"
     ]
    }
   ],
   "source": [
    "deputados_partidos.info()"
   ]
  },
  {
   "cell_type": "code",
   "execution_count": 28,
   "metadata": {},
   "outputs": [],
   "source": [
    "deputados_partidos.to_csv('dia23_11_partidos.csv')"
   ]
  },
  {
   "cell_type": "code",
   "execution_count": null,
   "metadata": {},
   "outputs": [],
   "source": []
  },
  {
   "cell_type": "code",
   "execution_count": 29,
   "metadata": {},
   "outputs": [],
   "source": [
    "# Verifica quais não são deputados eleitos em 2014 - ou que têm nome urna diferente"
   ]
  },
  {
   "cell_type": "code",
   "execution_count": 30,
   "metadata": {},
   "outputs": [],
   "source": [
    "candidatos = pd.read_csv(\"candidatos_nome_urna_csv.csv\",sep=';',encoding = 'latin_1')"
   ]
  },
  {
   "cell_type": "code",
   "execution_count": 31,
   "metadata": {},
   "outputs": [
    {
     "name": "stdout",
     "output_type": "stream",
     "text": [
      "<class 'pandas.core.frame.DataFrame'>\n",
      "RangeIndex: 26245 entries, 0 to 26244\n",
      "Data columns (total 7 columns):\n",
      "Estado            26245 non-null object\n",
      "Cargo             26245 non-null object\n",
      "Nome_candidato    26245 non-null object\n",
      "CPF               26245 non-null int64\n",
      "Nome_urna         26245 non-null object\n",
      "Partido           26245 non-null object\n",
      "Situacao          26245 non-null object\n",
      "dtypes: int64(1), object(6)\n",
      "memory usage: 1.4+ MB\n"
     ]
    }
   ],
   "source": [
    "candidatos.info()"
   ]
  },
  {
   "cell_type": "code",
   "execution_count": 32,
   "metadata": {},
   "outputs": [],
   "source": [
    "eleitos = candidatos[(candidatos['Situacao'] == 'ELEITO POR QP') | (candidatos['Situacao'] == 'ELEITO POR MÉDIA') | (candidatos['Situacao'] == 'ELEITO')]"
   ]
  },
  {
   "cell_type": "code",
   "execution_count": 33,
   "metadata": {},
   "outputs": [],
   "source": [
    "eleitos_d = eleitos[(eleitos['Cargo'] == 'DEPUTADO FEDERAL')]"
   ]
  },
  {
   "cell_type": "code",
   "execution_count": 34,
   "metadata": {},
   "outputs": [
    {
     "name": "stdout",
     "output_type": "stream",
     "text": [
      "<class 'pandas.core.frame.DataFrame'>\n",
      "Int64Index: 513 entries, 23 to 26219\n",
      "Data columns (total 7 columns):\n",
      "Estado            513 non-null object\n",
      "Cargo             513 non-null object\n",
      "Nome_candidato    513 non-null object\n",
      "CPF               513 non-null int64\n",
      "Nome_urna         513 non-null object\n",
      "Partido           513 non-null object\n",
      "Situacao          513 non-null object\n",
      "dtypes: int64(1), object(6)\n",
      "memory usage: 32.1+ KB\n"
     ]
    }
   ],
   "source": [
    "eleitos_d.info()"
   ]
  },
  {
   "cell_type": "code",
   "execution_count": null,
   "metadata": {},
   "outputs": [],
   "source": []
  },
  {
   "cell_type": "code",
   "execution_count": 7,
   "metadata": {},
   "outputs": [],
   "source": [
    "#Partidos atuais em deputados eleitos"
   ]
  },
  {
   "cell_type": "code",
   "execution_count": null,
   "metadata": {},
   "outputs": [],
   "source": []
  },
  {
   "cell_type": "code",
   "execution_count": 35,
   "metadata": {},
   "outputs": [],
   "source": [
    "atuais = pd.merge(eleitos_d, deputados_partidos, left_on='Nome_urna', right_on='Nome')"
   ]
  },
  {
   "cell_type": "code",
   "execution_count": 36,
   "metadata": {},
   "outputs": [
    {
     "name": "stdout",
     "output_type": "stream",
     "text": [
      "<class 'pandas.core.frame.DataFrame'>\n",
      "Int64Index: 342 entries, 0 to 341\n",
      "Data columns (total 12 columns):\n",
      "Estado            342 non-null object\n",
      "Cargo             342 non-null object\n",
      "Nome_candidato    342 non-null object\n",
      "CPF_x             342 non-null int64\n",
      "Nome_urna         342 non-null object\n",
      "Partido           342 non-null object\n",
      "Situacao          342 non-null object\n",
      "Link              342 non-null object\n",
      "CPF_y             342 non-null int64\n",
      "Nome              342 non-null object\n",
      "Partido_atual     342 non-null object\n",
      "Esta_no_cargo     342 non-null object\n",
      "dtypes: int64(2), object(10)\n",
      "memory usage: 34.7+ KB\n"
     ]
    }
   ],
   "source": [
    "atuais.info()"
   ]
  },
  {
   "cell_type": "code",
   "execution_count": 37,
   "metadata": {},
   "outputs": [],
   "source": [
    "# O cruzamento mostrou 171 nomes faltando - podem ser nomes com nome urna diferente ou suplentes"
   ]
  },
  {
   "cell_type": "code",
   "execution_count": null,
   "metadata": {},
   "outputs": [],
   "source": []
  },
  {
   "cell_type": "code",
   "execution_count": 38,
   "metadata": {},
   "outputs": [],
   "source": [
    "# Verifica nomes não encontrados"
   ]
  },
  {
   "cell_type": "code",
   "execution_count": 39,
   "metadata": {},
   "outputs": [],
   "source": [
    "# outer: usa união de chaves de ambos os quadros, semelhante a uma junção externa completa do SQL; classificar chaves lexicograficamente\n",
    "# indicator: Se True, adiciona uma coluna para saída DataFrame chamado \"_merge\" com informações sobre a origem de cada linha. Se uma seqüência de caracteres, a coluna com informações sobre a fonte de cada linha será adicionada para saída DataFrame, e a coluna será denominada valor da string. A coluna de informação é de tipo Categorical e assume um valor de \"left_only\" para observações cuja chave de mesclagem só aparece no DataFrame 'esquerdo', \"right_only\" para observações cuja chave de mesclagem aparece apenas no DataFrame 'direito' e \"ambos\" se o A chave de mesclagem da observação é encontrada em ambos."
   ]
  },
  {
   "cell_type": "code",
   "execution_count": 40,
   "metadata": {},
   "outputs": [],
   "source": [
    "naoencontrados = pd.merge(eleitos_d, \n",
    "                        deputados_partidos, \n",
    "                        left_on='Nome_urna', \n",
    "                        right_on='Nome',\n",
    "                        how='outer',\n",
    "                        indicator=True)"
   ]
  },
  {
   "cell_type": "code",
   "execution_count": 41,
   "metadata": {},
   "outputs": [],
   "source": [
    "# Agrupa apenas pelo lado direito - a lista do site"
   ]
  },
  {
   "cell_type": "code",
   "execution_count": 42,
   "metadata": {},
   "outputs": [],
   "source": [
    "rdf = naoencontrados.query(\"_merge == 'right_only'\").drop('_merge',axis=1)"
   ]
  },
  {
   "cell_type": "code",
   "execution_count": 43,
   "metadata": {},
   "outputs": [
    {
     "name": "stdout",
     "output_type": "stream",
     "text": [
      "<class 'pandas.core.frame.DataFrame'>\n",
      "Int64Index: 171 entries, 513 to 683\n",
      "Data columns (total 12 columns):\n",
      "Estado            0 non-null object\n",
      "Cargo             0 non-null object\n",
      "Nome_candidato    0 non-null object\n",
      "CPF_x             0 non-null float64\n",
      "Nome_urna         0 non-null object\n",
      "Partido           0 non-null object\n",
      "Situacao          0 non-null object\n",
      "Link              171 non-null object\n",
      "CPF_y             171 non-null float64\n",
      "Nome              0 non-null object\n",
      "Partido_atual     171 non-null object\n",
      "Esta_no_cargo     171 non-null object\n",
      "dtypes: float64(2), object(10)\n",
      "memory usage: 17.4+ KB\n"
     ]
    }
   ],
   "source": [
    "rdf.info()"
   ]
  },
  {
   "cell_type": "code",
   "execution_count": 44,
   "metadata": {},
   "outputs": [],
   "source": [
    "rdf.to_csv('nao_encontrados_partidos_atuais.csv')"
   ]
  },
  {
   "cell_type": "code",
   "execution_count": 45,
   "metadata": {},
   "outputs": [],
   "source": [
    "# Nesse ponto fiz uma checagem manual dos nomes, verificando quem não era deputado eleito e atualizando os nomes urna"
   ]
  },
  {
   "cell_type": "code",
   "execution_count": 46,
   "metadata": {},
   "outputs": [],
   "source": [
    "# Repeti o cruzamento e já inclui o CPF para essa base ser cruzada facilmente com outras"
   ]
  },
  {
   "cell_type": "code",
   "execution_count": 3,
   "metadata": {},
   "outputs": [],
   "source": [
    "xls = pd.ExcelFile('politicos_23_11.xls')"
   ]
  },
  {
   "cell_type": "code",
   "execution_count": 4,
   "metadata": {},
   "outputs": [],
   "source": [
    "partidos_finais = pd.read_excel(xls, 'politicos_23_11')"
   ]
  },
  {
   "cell_type": "code",
   "execution_count": 5,
   "metadata": {},
   "outputs": [
    {
     "data": {
      "text/html": [
       "<div>\n",
       "<style scoped>\n",
       "    .dataframe tbody tr th:only-of-type {\n",
       "        vertical-align: middle;\n",
       "    }\n",
       "\n",
       "    .dataframe tbody tr th {\n",
       "        vertical-align: top;\n",
       "    }\n",
       "\n",
       "    .dataframe thead th {\n",
       "        text-align: right;\n",
       "    }\n",
       "</style>\n",
       "<table border=\"1\" class=\"dataframe\">\n",
       "  <thead>\n",
       "    <tr style=\"text-align: right;\">\n",
       "      <th></th>\n",
       "      <th>index</th>\n",
       "      <th>Politico_CPF</th>\n",
       "      <th>Politico_Nome_urna</th>\n",
       "      <th>Partido_atual</th>\n",
       "      <th>Esta_no_cargo</th>\n",
       "    </tr>\n",
       "  </thead>\n",
       "  <tbody>\n",
       "    <tr>\n",
       "      <th>0</th>\n",
       "      <td>0</td>\n",
       "      <td>30790590263</td>\n",
       "      <td>MAJOR ROCHA</td>\n",
       "      <td>PSDB</td>\n",
       "      <td>Sim</td>\n",
       "    </tr>\n",
       "    <tr>\n",
       "      <th>1</th>\n",
       "      <td>1</td>\n",
       "      <td>50872060772</td>\n",
       "      <td>CÉSAR MESSIAS</td>\n",
       "      <td>PSB</td>\n",
       "      <td>Sim</td>\n",
       "    </tr>\n",
       "    <tr>\n",
       "      <th>2</th>\n",
       "      <td>2</td>\n",
       "      <td>13365517391</td>\n",
       "      <td>SIBÁ MACHADO</td>\n",
       "      <td>PT</td>\n",
       "      <td>Não</td>\n",
       "    </tr>\n",
       "    <tr>\n",
       "      <th>3</th>\n",
       "      <td>3</td>\n",
       "      <td>44726570234</td>\n",
       "      <td>ALAN RICK</td>\n",
       "      <td>DEM</td>\n",
       "      <td>Sim</td>\n",
       "    </tr>\n",
       "    <tr>\n",
       "      <th>4</th>\n",
       "      <td>4</td>\n",
       "      <td>65595564253</td>\n",
       "      <td>JÉSSICA SALES</td>\n",
       "      <td>PMDB</td>\n",
       "      <td>Sim</td>\n",
       "    </tr>\n",
       "  </tbody>\n",
       "</table>\n",
       "</div>"
      ],
      "text/plain": [
       "   index  Politico_CPF Politico_Nome_urna Partido_atual Esta_no_cargo\n",
       "0      0   30790590263        MAJOR ROCHA          PSDB           Sim\n",
       "1      1   50872060772      CÉSAR MESSIAS           PSB           Sim\n",
       "2      2   13365517391       SIBÁ MACHADO            PT           Não\n",
       "3      3   44726570234          ALAN RICK           DEM           Sim\n",
       "4      4   65595564253      JÉSSICA SALES          PMDB           Sim"
      ]
     },
     "execution_count": 5,
     "metadata": {},
     "output_type": "execute_result"
    }
   ],
   "source": [
    "partidos_finais.head().reset_index()"
   ]
  },
  {
   "cell_type": "code",
   "execution_count": null,
   "metadata": {},
   "outputs": [],
   "source": []
  }
 ],
 "metadata": {
  "kernelspec": {
   "display_name": "Python 3",
   "language": "python",
   "name": "python3"
  },
  "language_info": {
   "codemirror_mode": {
    "name": "ipython",
    "version": 3
   },
   "file_extension": ".py",
   "mimetype": "text/x-python",
   "name": "python",
   "nbconvert_exporter": "python",
   "pygments_lexer": "ipython3",
   "version": "3.6.2"
  }
 },
 "nbformat": 4,
 "nbformat_minor": 2
}
