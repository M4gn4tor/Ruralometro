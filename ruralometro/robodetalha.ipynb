{
 "cells": [
  {
   "cell_type": "code",
   "execution_count": 1,
   "metadata": {},
   "outputs": [],
   "source": [
    "# -*- coding: utf-8\n",
    "# Repórter Brasil (http://ruralometro.reporterbrasil.org.br/)\n",
    "# Reinaldo Chaves (@paidatocandeira)\n",
    "# Programa para detalhar as temperaturas dos deputados - números de votos e autorias de projetos\n",
    "#"
   ]
  },
  {
   "cell_type": "code",
   "execution_count": 1,
   "metadata": {},
   "outputs": [],
   "source": [
    "import pandas as pd"
   ]
  },
  {
   "cell_type": "code",
   "execution_count": null,
   "metadata": {},
   "outputs": [],
   "source": []
  },
  {
   "cell_type": "code",
   "execution_count": 4,
   "metadata": {},
   "outputs": [],
   "source": [
    "xls = pd.ExcelFile('votos_eleitos_15_01_2018.xls')"
   ]
  },
  {
   "cell_type": "code",
   "execution_count": 5,
   "metadata": {},
   "outputs": [],
   "source": [
    "votos = pd.read_excel(xls, 'dia29_11_votoseleitos')"
   ]
  },
  {
   "cell_type": "code",
   "execution_count": 12,
   "metadata": {},
   "outputs": [
    {
     "name": "stdout",
     "output_type": "stream",
     "text": [
      "<class 'pandas.core.frame.DataFrame'>\n",
      "RangeIndex: 5289 entries, 0 to 5288\n",
      "Data columns (total 13 columns):\n",
      "Projeto_votacao                5289 non-null object\n",
      "Projeto_Data_votacao           5289 non-null object\n",
      "Partido_na_data_votacao        5289 non-null object\n",
      "Projeto_Voto                   5289 non-null object\n",
      "Projeto_Avaliado_por           5289 non-null object\n",
      "Projeto_Avaliacao              5289 non-null object\n",
      "Projeto_Relevancia             5289 non-null object\n",
      "Politico_CPF                   5289 non-null int64\n",
      "Politico_Partido_na_eleicao    5289 non-null object\n",
      "Politico_Nome_urna_votacao     5289 non-null object\n",
      "Partido_atual                  5289 non-null object\n",
      "Esta_no_cargo                  5289 non-null object\n",
      "Descricao                      5289 non-null object\n",
      "dtypes: int64(1), object(12)\n",
      "memory usage: 537.2+ KB\n"
     ]
    }
   ],
   "source": [
    "votos.info()"
   ]
  },
  {
   "cell_type": "code",
   "execution_count": null,
   "metadata": {},
   "outputs": [],
   "source": []
  },
  {
   "cell_type": "code",
   "execution_count": 6,
   "metadata": {},
   "outputs": [],
   "source": [
    "xls = pd.ExcelFile('projs_dep_eleitos_15_01_2018.xls')"
   ]
  },
  {
   "cell_type": "code",
   "execution_count": 7,
   "metadata": {},
   "outputs": [],
   "source": [
    "projetos = pd.read_excel(xls, 'dia29_11_projs_dep_eleitos') "
   ]
  },
  {
   "cell_type": "code",
   "execution_count": 11,
   "metadata": {},
   "outputs": [
    {
     "name": "stdout",
     "output_type": "stream",
     "text": [
      "<class 'pandas.core.frame.DataFrame'>\n",
      "RangeIndex: 131 entries, 0 to 130\n",
      "Data columns (total 16 columns):\n",
      "Projeto                   131 non-null object\n",
      "Autor                     131 non-null object\n",
      "Autor_isolado             131 non-null object\n",
      "Ementa                    36 non-null object\n",
      "Assunto                   131 non-null object\n",
      "Indicado_por              123 non-null object\n",
      "Quem_avaliou              131 non-null object\n",
      "Qual_avaliacao            131 non-null object\n",
      "Situacao_no_parlamento    11 non-null object\n",
      "Analise                   10 non-null object\n",
      "Estado                    131 non-null object\n",
      "CPF                       131 non-null int64\n",
      "Partido_eleicao           131 non-null object\n",
      "Nome_urna_tramitacao      131 non-null object\n",
      "Partido_atual             131 non-null object\n",
      "Esta_no_cargo             131 non-null object\n",
      "dtypes: int64(1), object(15)\n",
      "memory usage: 16.5+ KB\n"
     ]
    }
   ],
   "source": [
    "projetos.info()"
   ]
  },
  {
   "cell_type": "code",
   "execution_count": null,
   "metadata": {},
   "outputs": [],
   "source": []
  },
  {
   "cell_type": "code",
   "execution_count": 8,
   "metadata": {},
   "outputs": [],
   "source": [
    "xlsx = pd.ExcelFile('dados_ruralometro_15_01_2018.xlsx')"
   ]
  },
  {
   "cell_type": "code",
   "execution_count": 9,
   "metadata": {},
   "outputs": [],
   "source": [
    "temps = pd.read_excel(xlsx, 'dados_ruralometro_50_50')"
   ]
  },
  {
   "cell_type": "code",
   "execution_count": 10,
   "metadata": {},
   "outputs": [
    {
     "name": "stdout",
     "output_type": "stream",
     "text": [
      "<class 'pandas.core.frame.DataFrame'>\n",
      "RangeIndex: 494 entries, 0 to 493\n",
      "Data columns (total 7 columns):\n",
      "Politico_CPF                  494 non-null int64\n",
      "Politico_Nome_urna_votacao    494 non-null object\n",
      "Partido_atual                 494 non-null object\n",
      "ponto_final_votacoes          494 non-null float64\n",
      "pontos_autoria                494 non-null float64\n",
      "ESCALA_TECNICA                494 non-null float64\n",
      "TEMPERATURA                   494 non-null float64\n",
      "dtypes: float64(4), int64(1), object(2)\n",
      "memory usage: 27.1+ KB\n"
     ]
    }
   ],
   "source": [
    "temps.info()"
   ]
  },
  {
   "cell_type": "code",
   "execution_count": null,
   "metadata": {},
   "outputs": [],
   "source": []
  },
  {
   "cell_type": "code",
   "execution_count": 17,
   "metadata": {},
   "outputs": [],
   "source": [
    "planilha = []\n",
    "for num, row in temps.iterrows():\n",
    "    cpf_principal = (row['Politico_CPF'])\n",
    "    # variaveis para cada tipo de projeto e voto\n",
    "    projetos_favoraveis = 0\n",
    "    projetos_desfavoraveis = 0\n",
    "    vot_nao_neg_poc_rel = 0\n",
    "    vot_nao_neg_mui_rel = 0\n",
    "    vot_nao_pos_mui_rel = 0\n",
    "    vot_nao_pos_poc_rel = 0\n",
    "    vot_sim_neg_poc_rel = 0 \n",
    "    vot_sim_neg_mui_rel = 0\n",
    "    vot_sim_pos_mui_rel = 0\n",
    "    vot_sim_pos_poc_rel = 0\n",
    "    vot_obs_neg_poc_rel = 0\n",
    "    vot_obs_neg_mui_rel = 0\n",
    "    vot_obs_pos_mui_rel = 0\n",
    "    vot_obs_pos_poc_rel = 0\n",
    "    for num2, row in projetos.iterrows():\n",
    "        cpf_p = (row['CPF'])\n",
    "        ava = (row['Qual_avaliacao'])\n",
    "        if cpf_principal == cpf_p:\n",
    "            if ava == 'Favorável':\n",
    "                projetos_favoraveis = projetos_favoraveis + 1\n",
    "            else:\n",
    "                projetos_desfavoraveis = projetos_desfavoraveis + 1\n",
    "    for num2, row in votos.iterrows():\n",
    "        cpf_v = (row['Politico_CPF'])\n",
    "        voto = (row['Projeto_Voto'])\n",
    "        ava = (row['Projeto_Avaliacao'])\n",
    "        rel = (row['Projeto_Relevancia'])\n",
    "        if cpf_principal == cpf_v:\n",
    "            if voto == 'Não' and ava == 'Desfavorável' and rel == 'Pouco relevante':\n",
    "                vot_nao_neg_poc_rel = vot_nao_neg_poc_rel + 1\n",
    "            elif voto == 'Não' and ava == 'Desfavorável' and rel == 'Muito relevante':\n",
    "                vot_nao_neg_mui_rel = vot_nao_neg_mui_rel + 1\n",
    "            elif voto == 'Não' and ava == 'Favorável' and rel == 'Muito relevante':\n",
    "                vot_nao_pos_mui_rel = vot_nao_pos_mui_rel + 1\n",
    "            elif voto == 'Não' and ava == 'Favorável' and rel == 'Pouco relevante':\n",
    "                vot_nao_pos_poc_rel = vot_nao_pos_poc_rel + 1\n",
    "                \n",
    "            elif voto == 'Sim' and ava == 'Desfavorável' and rel == 'Pouco relevante':\n",
    "                vot_sim_neg_poc_rel = vot_sim_neg_poc_rel + 1\n",
    "            elif voto == 'Sim' and ava == 'Desfavorável' and rel == 'Muito relevante':\n",
    "                vot_sim_neg_mui_rel = vot_sim_neg_mui_rel + 1\n",
    "            elif voto == 'Sim' and ava == 'Favorável' and rel == 'Muito relevante':\n",
    "                vot_sim_pos_mui_rel = vot_sim_pos_mui_rel + 1\n",
    "            elif voto == 'Sim' and ava == 'Favorável' and rel == 'Pouco relevante':\n",
    "                vot_sim_pos_poc_rel = vot_sim_pos_poc_rel + 1\n",
    "                \n",
    "            elif voto == 'Obstrução' and ava == 'Desfavorável' and rel == 'Pouco relevante':\n",
    "                vot_obs_neg_poc_rel = vot_obs_neg_poc_rel + 1\n",
    "            elif voto == 'Obstrução' and ava == 'Desfavorável' and rel == 'Muito relevante':\n",
    "                vot_obs_neg_mui_rel = vot_obs_neg_mui_rel + 1\n",
    "            elif voto == 'Obstrução' and ava == 'Favorável' and rel == 'Muito relevante':\n",
    "                vot_obs_pos_mui_rel = vot_obs_pos_mui_rel + 1\n",
    "            elif voto == 'Obstrução' and ava == 'Favorável' and rel == 'Pouco relevante':\n",
    "                vot_obs_pos_poc_rel = vot_obs_pos_poc_rel + 1\n",
    "        \n",
    "    dicionario = {\"cpf\": cpf_principal, \n",
    "                  \"projetos_favoraveis\": projetos_favoraveis,\n",
    "                  \"projetos_desfavoraveis\": projetos_desfavoraveis,\n",
    "                  \"vot_nao_neg_poc_rel\": vot_nao_neg_poc_rel, \n",
    "                  \"vot_nao_neg_mui_rel\": vot_nao_neg_mui_rel, \n",
    "                  \"vot_nao_pos_mui_rel\": vot_nao_pos_mui_rel, \n",
    "                  \"vot_nao_pos_poc_rel\": vot_nao_pos_poc_rel, \n",
    "                  \"vot_sim_neg_poc_rel\": vot_sim_neg_poc_rel, \n",
    "                  \"vot_sim_neg_mui_rel\": vot_sim_neg_mui_rel, \n",
    "                  \"vot_sim_pos_mui_rel\": vot_sim_pos_mui_rel, \n",
    "                  \"vot_sim_pos_poc_rel\": vot_sim_pos_poc_rel, \n",
    "                  \"vot_obs_neg_poc_rel\": vot_obs_neg_poc_rel, \n",
    "                  \"vot_obs_neg_mui_rel\": vot_obs_neg_mui_rel, \n",
    "                  \"vot_obs_pos_mui_rel\": vot_obs_pos_mui_rel,\n",
    "                  \"vot_obs_pos_poc_rel\": vot_obs_pos_poc_rel}\n",
    "    planilha.append(dicionario) "
   ]
  },
  {
   "cell_type": "code",
   "execution_count": 19,
   "metadata": {},
   "outputs": [],
   "source": [
    "df_det_temp = pd.DataFrame(planilha, columns = ['cpf',\n",
    "                                                'projetos_favoraveis', \n",
    "                                                'projetos_desfavoraveis', \n",
    "                                                'vot_nao_neg_poc_rel', \n",
    "                                                'vot_nao_neg_mui_rel', \n",
    "                                                'vot_nao_pos_mui_rel', \n",
    "                                                'vot_nao_pos_poc_rel', \n",
    "                                                'vot_sim_neg_poc_rel', \n",
    "                                                'vot_sim_neg_mui_rel', \n",
    "                                                'vot_sim_pos_mui_rel', \n",
    "                                                'vot_sim_pos_poc_rel', \n",
    "                                                'vot_obs_neg_poc_rel',\n",
    "                                                'vot_obs_neg_mui_rel',\n",
    "                                                'vot_obs_pos_mui_rel',\n",
    "                                                'vot_obs_pos_poc_rel'])"
   ]
  },
  {
   "cell_type": "code",
   "execution_count": 21,
   "metadata": {},
   "outputs": [
    {
     "name": "stdout",
     "output_type": "stream",
     "text": [
      "<class 'pandas.core.frame.DataFrame'>\n",
      "RangeIndex: 494 entries, 0 to 493\n",
      "Data columns (total 15 columns):\n",
      "cpf                       494 non-null int64\n",
      "projetos_favoraveis       494 non-null int64\n",
      "projetos_desfavoraveis    494 non-null int64\n",
      "vot_nao_neg_poc_rel       494 non-null int64\n",
      "vot_nao_neg_mui_rel       494 non-null int64\n",
      "vot_nao_pos_mui_rel       494 non-null int64\n",
      "vot_nao_pos_poc_rel       494 non-null int64\n",
      "vot_sim_neg_poc_rel       494 non-null int64\n",
      "vot_sim_neg_mui_rel       494 non-null int64\n",
      "vot_sim_pos_mui_rel       494 non-null int64\n",
      "vot_sim_pos_poc_rel       494 non-null int64\n",
      "vot_obs_neg_poc_rel       494 non-null int64\n",
      "vot_obs_neg_mui_rel       494 non-null int64\n",
      "vot_obs_pos_mui_rel       494 non-null int64\n",
      "vot_obs_pos_poc_rel       494 non-null int64\n",
      "dtypes: int64(15)\n",
      "memory usage: 58.0 KB\n"
     ]
    }
   ],
   "source": [
    "df_det_temp.info()"
   ]
  },
  {
   "cell_type": "code",
   "execution_count": null,
   "metadata": {},
   "outputs": [],
   "source": []
  },
  {
   "cell_type": "code",
   "execution_count": 22,
   "metadata": {},
   "outputs": [],
   "source": [
    "temp_detalhada = pd.merge(temps, df_det_temp, left_on='Politico_CPF', right_on='cpf', how='outer')"
   ]
  },
  {
   "cell_type": "code",
   "execution_count": 23,
   "metadata": {},
   "outputs": [
    {
     "name": "stdout",
     "output_type": "stream",
     "text": [
      "<class 'pandas.core.frame.DataFrame'>\n",
      "Int64Index: 494 entries, 0 to 493\n",
      "Data columns (total 22 columns):\n",
      "Politico_CPF                  494 non-null int64\n",
      "Politico_Nome_urna_votacao    494 non-null object\n",
      "Partido_atual                 494 non-null object\n",
      "ponto_final_votacoes          494 non-null float64\n",
      "pontos_autoria                494 non-null float64\n",
      "ESCALA_TECNICA                494 non-null float64\n",
      "TEMPERATURA                   494 non-null float64\n",
      "cpf                           494 non-null int64\n",
      "projetos_favoraveis           494 non-null int64\n",
      "projetos_desfavoraveis        494 non-null int64\n",
      "vot_nao_neg_poc_rel           494 non-null int64\n",
      "vot_nao_neg_mui_rel           494 non-null int64\n",
      "vot_nao_pos_mui_rel           494 non-null int64\n",
      "vot_nao_pos_poc_rel           494 non-null int64\n",
      "vot_sim_neg_poc_rel           494 non-null int64\n",
      "vot_sim_neg_mui_rel           494 non-null int64\n",
      "vot_sim_pos_mui_rel           494 non-null int64\n",
      "vot_sim_pos_poc_rel           494 non-null int64\n",
      "vot_obs_neg_poc_rel           494 non-null int64\n",
      "vot_obs_neg_mui_rel           494 non-null int64\n",
      "vot_obs_pos_mui_rel           494 non-null int64\n",
      "vot_obs_pos_poc_rel           494 non-null int64\n",
      "dtypes: float64(4), int64(16), object(2)\n",
      "memory usage: 88.8+ KB\n"
     ]
    }
   ],
   "source": [
    "temp_detalhada.info()"
   ]
  },
  {
   "cell_type": "code",
   "execution_count": null,
   "metadata": {},
   "outputs": [],
   "source": []
  },
  {
   "cell_type": "code",
   "execution_count": 24,
   "metadata": {},
   "outputs": [],
   "source": [
    "temp_detalhada.to_csv('temp_detalhada_19_01_18.csv')"
   ]
  },
  {
   "cell_type": "code",
   "execution_count": null,
   "metadata": {},
   "outputs": [],
   "source": []
  }
 ],
 "metadata": {
  "kernelspec": {
   "display_name": "Python 3",
   "language": "python",
   "name": "python3"
  },
  "language_info": {
   "codemirror_mode": {
    "name": "ipython",
    "version": 3
   },
   "file_extension": ".py",
   "mimetype": "text/x-python",
   "name": "python",
   "nbconvert_exporter": "python",
   "pygments_lexer": "ipython3",
   "version": "3.6.2"
  }
 },
 "nbformat": 4,
 "nbformat_minor": 2
}
