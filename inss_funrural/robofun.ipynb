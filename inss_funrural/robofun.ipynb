{
 "cells": [
  {
   "cell_type": "code",
   "execution_count": 1,
   "metadata": {},
   "outputs": [],
   "source": [
    "# -*- coding: utf-8\n",
    "# Repórter Brasil (http://ruralometro.reporterbrasil.org.br/)\n",
    "# Reinaldo Chaves (@paidatocandeira)\n",
    "# Cria base com dívidas de deputados federais na Previdência Social e quais delas são do Funrural, baseado em informações da Procuradoria-Geral da Fazenda Nacional via LAI:  http://www.acessoainformacao.gov.br/assuntos/busca-de-pedidos-e-respostas/busca-de-pedidos-e-respostas\n",
    "#"
   ]
  },
  {
   "cell_type": "code",
   "execution_count": 2,
   "metadata": {},
   "outputs": [],
   "source": [
    "import pandas as pd"
   ]
  },
  {
   "cell_type": "code",
   "execution_count": null,
   "metadata": {},
   "outputs": [],
   "source": []
  },
  {
   "cell_type": "code",
   "execution_count": 3,
   "metadata": {},
   "outputs": [],
   "source": [
    "# Acessa base com dívidas no INSS"
   ]
  },
  {
   "cell_type": "code",
   "execution_count": 4,
   "metadata": {},
   "outputs": [],
   "source": [
    "dividas_dep = pd.read_csv(\"dividas_deputados_ajustado_csv.csv\",sep=';',encoding = 'latin_1', decimal = ',')"
   ]
  },
  {
   "cell_type": "code",
   "execution_count": 5,
   "metadata": {},
   "outputs": [
    {
     "name": "stdout",
     "output_type": "stream",
     "text": [
      "<class 'pandas.core.frame.DataFrame'>\n",
      "RangeIndex: 106 entries, 0 to 105\n",
      "Data columns (total 10 columns):\n",
      "CPF_Deputado                  106 non-null object\n",
      "CPF_limpo                     106 non-null int64\n",
      "Nome_Deputado                 106 non-null object\n",
      "Vinculo                       106 non-null object\n",
      "CNPJ_Devedor                  106 non-null object\n",
      "CNPJ_limpo                    106 non-null int64\n",
      "Nome_Devedor                  106 non-null object\n",
      "Valores_situacao_Irregular    65 non-null float64\n",
      "Valores_situacao_Regular      52 non-null float64\n",
      "Total_Devido                  106 non-null float64\n",
      "dtypes: float64(3), int64(2), object(5)\n",
      "memory usage: 8.4+ KB\n"
     ]
    }
   ],
   "source": [
    "dividas_dep.info()"
   ]
  },
  {
   "cell_type": "code",
   "execution_count": 6,
   "metadata": {},
   "outputs": [],
   "source": [
    "dividas_dep['CNPJ_limpo'] = dividas_dep.CNPJ_limpo.astype('float64')"
   ]
  },
  {
   "cell_type": "code",
   "execution_count": null,
   "metadata": {},
   "outputs": [],
   "source": []
  },
  {
   "cell_type": "code",
   "execution_count": 7,
   "metadata": {},
   "outputs": [],
   "source": [
    "# Cria base só com deputados eleitos em 2014 - via TSE"
   ]
  },
  {
   "cell_type": "code",
   "execution_count": 8,
   "metadata": {},
   "outputs": [],
   "source": [
    "candidatos = pd.read_csv(\"candidatos_nome_urna_csv.csv\",sep=';',encoding = 'latin_1')"
   ]
  },
  {
   "cell_type": "code",
   "execution_count": 9,
   "metadata": {},
   "outputs": [],
   "source": [
    "eleitos = candidatos[(candidatos['Situacao'] == 'ELEITO POR QP') | (candidatos['Situacao'] == 'ELEITO POR MÉDIA') | (candidatos['Situacao'] == 'ELEITO')]"
   ]
  },
  {
   "cell_type": "code",
   "execution_count": 10,
   "metadata": {},
   "outputs": [],
   "source": [
    "eleitos_d = eleitos[(eleitos['Cargo'] == 'DEPUTADO FEDERAL')]"
   ]
  },
  {
   "cell_type": "code",
   "execution_count": 11,
   "metadata": {},
   "outputs": [
    {
     "name": "stdout",
     "output_type": "stream",
     "text": [
      "<class 'pandas.core.frame.DataFrame'>\n",
      "Int64Index: 513 entries, 23 to 26219\n",
      "Data columns (total 7 columns):\n",
      "Estado            513 non-null object\n",
      "Cargo             513 non-null object\n",
      "Nome_candidato    513 non-null object\n",
      "CPF               513 non-null int64\n",
      "Nome_urna         513 non-null object\n",
      "Partido           513 non-null object\n",
      "Situacao          513 non-null object\n",
      "dtypes: int64(1), object(6)\n",
      "memory usage: 32.1+ KB\n"
     ]
    }
   ],
   "source": [
    "eleitos_d.info()"
   ]
  },
  {
   "cell_type": "code",
   "execution_count": null,
   "metadata": {},
   "outputs": [],
   "source": []
  },
  {
   "cell_type": "code",
   "execution_count": 12,
   "metadata": {},
   "outputs": [],
   "source": [
    "# Junta as duas bases e deixa só dívidas de deputados eleitos em 2014 - pelo CPFs"
   ]
  },
  {
   "cell_type": "code",
   "execution_count": 13,
   "metadata": {},
   "outputs": [],
   "source": [
    "dividas = pd.merge(dividas_dep, eleitos_d, left_on='CPF_limpo', right_on='CPF')"
   ]
  },
  {
   "cell_type": "code",
   "execution_count": 14,
   "metadata": {},
   "outputs": [
    {
     "name": "stdout",
     "output_type": "stream",
     "text": [
      "<class 'pandas.core.frame.DataFrame'>\n",
      "Int64Index: 96 entries, 0 to 95\n",
      "Data columns (total 17 columns):\n",
      "CPF_Deputado                  96 non-null object\n",
      "CPF_limpo                     96 non-null int64\n",
      "Nome_Deputado                 96 non-null object\n",
      "Vinculo                       96 non-null object\n",
      "CNPJ_Devedor                  96 non-null object\n",
      "CNPJ_limpo                    96 non-null float64\n",
      "Nome_Devedor                  96 non-null object\n",
      "Valores_situacao_Irregular    59 non-null float64\n",
      "Valores_situacao_Regular      47 non-null float64\n",
      "Total_Devido                  96 non-null float64\n",
      "Estado                        96 non-null object\n",
      "Cargo                         96 non-null object\n",
      "Nome_candidato                96 non-null object\n",
      "CPF                           96 non-null int64\n",
      "Nome_urna                     96 non-null object\n",
      "Partido                       96 non-null object\n",
      "Situacao                      96 non-null object\n",
      "dtypes: float64(4), int64(2), object(11)\n",
      "memory usage: 13.5+ KB\n"
     ]
    }
   ],
   "source": [
    "dividas.info()"
   ]
  },
  {
   "cell_type": "code",
   "execution_count": null,
   "metadata": {},
   "outputs": [],
   "source": []
  },
  {
   "cell_type": "code",
   "execution_count": 15,
   "metadata": {},
   "outputs": [],
   "source": [
    "# Acessa base com informações de dívidas do Funrural"
   ]
  },
  {
   "cell_type": "code",
   "execution_count": 16,
   "metadata": {},
   "outputs": [],
   "source": [
    "# Funrural é a Previdência dos trabalhadores rurais "
   ]
  },
  {
   "cell_type": "code",
   "execution_count": 17,
   "metadata": {},
   "outputs": [],
   "source": [
    "funrural = pd.read_excel('DEVEDORES FUNRURAL ATUALIZADO PGFN.xlsx')"
   ]
  },
  {
   "cell_type": "code",
   "execution_count": 18,
   "metadata": {},
   "outputs": [
    {
     "name": "stdout",
     "output_type": "stream",
     "text": [
      "<class 'pandas.core.frame.DataFrame'>\n",
      "RangeIndex: 8130 entries, 0 to 8129\n",
      "Data columns (total 14 columns):\n",
      "PSFN_PGFN               8129 non-null object\n",
      "Regiao                  8129 non-null object\n",
      "CNPJ_CEI_Tipo           8129 non-null object\n",
      "CNPJ_Raiz               8129 non-null object\n",
      "Razao_Social            8130 non-null object\n",
      "Valor_principal         8130 non-null float64\n",
      "Valor_TR_IPC_Poup       8130 non-null float64\n",
      "Valor_Juros             8130 non-null float64\n",
      "Valor_SELIC             8130 non-null float64\n",
      "Valor_Encargo           8130 non-null float64\n",
      "Valor_Multa_Oficio      8130 non-null float64\n",
      "Valor_Selic_M_Oficio    8130 non-null float64\n",
      "Vl_Multa_Mora           8130 non-null float64\n",
      "Vl_Tot_Credito          8130 non-null float64\n",
      "dtypes: float64(9), object(5)\n",
      "memory usage: 889.3+ KB\n"
     ]
    }
   ],
   "source": [
    "funrural.info()"
   ]
  },
  {
   "cell_type": "code",
   "execution_count": null,
   "metadata": {},
   "outputs": [],
   "source": []
  },
  {
   "cell_type": "code",
   "execution_count": 19,
   "metadata": {},
   "outputs": [],
   "source": [
    "# O problema aqui é que a lista de dívidas do Funrural tem o CNPJ raiz, ou seja, os oito primeiros números"
   ]
  },
  {
   "cell_type": "code",
   "execution_count": 20,
   "metadata": {},
   "outputs": [],
   "source": [
    "# E a lista de dívidas em geral no INSS tem CNPJ com 14 números, então não dá para fazer um merge normal"
   ]
  },
  {
   "cell_type": "code",
   "execution_count": 21,
   "metadata": {},
   "outputs": [],
   "source": [
    "# Uma das maneiras de resolver isso é isolar o CNPJ"
   ]
  },
  {
   "cell_type": "code",
   "execution_count": null,
   "metadata": {},
   "outputs": [],
   "source": []
  },
  {
   "cell_type": "code",
   "execution_count": 22,
   "metadata": {},
   "outputs": [],
   "source": [
    "pre_iguais = []"
   ]
  },
  {
   "cell_type": "code",
   "execution_count": null,
   "metadata": {},
   "outputs": [],
   "source": []
  },
  {
   "cell_type": "code",
   "execution_count": 23,
   "metadata": {},
   "outputs": [],
   "source": [
    "def cria(a, b, c, d, e, f, g, h, i, j, l, m, valor):\n",
    "    pre_iguais.append([a, b, c, d, e, f, g, h, i, j, l, m, valor])\n",
    "    return \n",
    "\n",
    "for num, row in dividas.iterrows():\n",
    "    # é o CNPJ inteiro\n",
    "    a = (row['CNPJ_Devedor'])\n",
    "    # isola a raiz do CNPJ\n",
    "    pega = (a[:10])\n",
    "    c = (row['CPF_Deputado']) \n",
    "    d = (row['CPF_limpo'])\n",
    "    e = (row['Nome_Deputado']) \n",
    "    f = (row['Vinculo']) \n",
    "    g = (row['CNPJ_limpo'])\n",
    "    h = (row['Nome_Devedor'])\n",
    "    i = (row['Valores_situacao_Irregular'])\n",
    "    j = (row['Valores_situacao_Regular'])\n",
    "    l = (row['Total_Devido'])\n",
    "    for num2, row in funrural.iterrows():\n",
    "        b = (row['CNPJ_Raiz'])\n",
    "        m = (row['Vl_Tot_Credito'])\n",
    "        if pega == b:\n",
    "            valor = \"Sim\"\n",
    "        else:\n",
    "            valor = \"Não\"\n",
    "        cria (a, b, c, d, e, f, g, h, i, j, l, m, valor)    "
   ]
  },
  {
   "cell_type": "code",
   "execution_count": null,
   "metadata": {},
   "outputs": [],
   "source": []
  },
  {
   "cell_type": "code",
   "execution_count": 24,
   "metadata": {},
   "outputs": [],
   "source": [
    "# Transforma em dataframe"
   ]
  },
  {
   "cell_type": "code",
   "execution_count": 25,
   "metadata": {},
   "outputs": [],
   "source": [
    "iguais = pd.DataFrame(pre_iguais, columns = ['CNPJ_Devedor', 'CNPJ_Raiz', 'CPF_Deputado', 'CPF_limpo', 'Nome_Deputado', 'Vinculo', 'CNPJ_limpo', 'Nome_Devedor', 'Valores_situacao_Irregular', 'Valores_situacao_Regular', 'Total_Devido', 'Total_lista_Funrural', 'Mesma_empresa'])"
   ]
  },
  {
   "cell_type": "code",
   "execution_count": 26,
   "metadata": {},
   "outputs": [
    {
     "name": "stdout",
     "output_type": "stream",
     "text": [
      "<class 'pandas.core.frame.DataFrame'>\n",
      "RangeIndex: 780480 entries, 0 to 780479\n",
      "Data columns (total 13 columns):\n",
      "CNPJ_Devedor                  780480 non-null object\n",
      "CNPJ_Raiz                     780384 non-null object\n",
      "CPF_Deputado                  780480 non-null object\n",
      "CPF_limpo                     780480 non-null int64\n",
      "Nome_Deputado                 780480 non-null object\n",
      "Vinculo                       780480 non-null object\n",
      "CNPJ_limpo                    780480 non-null float64\n",
      "Nome_Devedor                  780480 non-null object\n",
      "Valores_situacao_Irregular    479670 non-null float64\n",
      "Valores_situacao_Regular      382110 non-null float64\n",
      "Total_Devido                  780480 non-null float64\n",
      "Total_lista_Funrural          780480 non-null float64\n",
      "Mesma_empresa                 780480 non-null object\n",
      "dtypes: float64(5), int64(1), object(7)\n",
      "memory usage: 77.4+ MB\n"
     ]
    }
   ],
   "source": [
    "iguais.info()"
   ]
  },
  {
   "cell_type": "code",
   "execution_count": 27,
   "metadata": {},
   "outputs": [],
   "source": [
    "# Só deixa as empresas iguais"
   ]
  },
  {
   "cell_type": "code",
   "execution_count": 28,
   "metadata": {},
   "outputs": [],
   "source": [
    "iguais = iguais[(iguais['Mesma_empresa'] == \"Sim\")]"
   ]
  },
  {
   "cell_type": "code",
   "execution_count": 29,
   "metadata": {},
   "outputs": [
    {
     "name": "stdout",
     "output_type": "stream",
     "text": [
      "<class 'pandas.core.frame.DataFrame'>\n",
      "Int64Index: 8 entries, 56499 to 699481\n",
      "Data columns (total 13 columns):\n",
      "CNPJ_Devedor                  8 non-null object\n",
      "CNPJ_Raiz                     8 non-null object\n",
      "CPF_Deputado                  8 non-null object\n",
      "CPF_limpo                     8 non-null int64\n",
      "Nome_Deputado                 8 non-null object\n",
      "Vinculo                       8 non-null object\n",
      "CNPJ_limpo                    8 non-null float64\n",
      "Nome_Devedor                  8 non-null object\n",
      "Valores_situacao_Irregular    2 non-null float64\n",
      "Valores_situacao_Regular      6 non-null float64\n",
      "Total_Devido                  8 non-null float64\n",
      "Total_lista_Funrural          8 non-null float64\n",
      "Mesma_empresa                 8 non-null object\n",
      "dtypes: float64(5), int64(1), object(7)\n",
      "memory usage: 896.0+ bytes\n"
     ]
    }
   ],
   "source": [
    "iguais.info()"
   ]
  },
  {
   "cell_type": "code",
   "execution_count": 30,
   "metadata": {},
   "outputs": [
    {
     "data": {
      "text/html": [
       "<div>\n",
       "<style scoped>\n",
       "    .dataframe tbody tr th:only-of-type {\n",
       "        vertical-align: middle;\n",
       "    }\n",
       "\n",
       "    .dataframe tbody tr th {\n",
       "        vertical-align: top;\n",
       "    }\n",
       "\n",
       "    .dataframe thead th {\n",
       "        text-align: right;\n",
       "    }\n",
       "</style>\n",
       "<table border=\"1\" class=\"dataframe\">\n",
       "  <thead>\n",
       "    <tr style=\"text-align: right;\">\n",
       "      <th></th>\n",
       "      <th>index</th>\n",
       "      <th>CNPJ_Devedor</th>\n",
       "      <th>CNPJ_Raiz</th>\n",
       "      <th>CPF_Deputado</th>\n",
       "      <th>CPF_limpo</th>\n",
       "      <th>Nome_Deputado</th>\n",
       "      <th>Vinculo</th>\n",
       "      <th>CNPJ_limpo</th>\n",
       "      <th>Nome_Devedor</th>\n",
       "      <th>Valores_situacao_Irregular</th>\n",
       "      <th>Valores_situacao_Regular</th>\n",
       "      <th>Total_Devido</th>\n",
       "      <th>Total_lista_Funrural</th>\n",
       "      <th>Mesma_empresa</th>\n",
       "    </tr>\n",
       "  </thead>\n",
       "  <tbody>\n",
       "    <tr>\n",
       "      <th>0</th>\n",
       "      <td>56499</td>\n",
       "      <td>12.480.976/0001-98</td>\n",
       "      <td>12.480.976</td>\n",
       "      <td>010.557.374-48</td>\n",
       "      <td>1055737448</td>\n",
       "      <td>PEDRO TORRES BRANDAO VILELA</td>\n",
       "      <td>SOCIO ADMINISTRADOR</td>\n",
       "      <td>1.248098e+13</td>\n",
       "      <td>AGROPECUARIA INDIANA LTDA</td>\n",
       "      <td>NaN</td>\n",
       "      <td>53858.82</td>\n",
       "      <td>53858.82</td>\n",
       "      <td>53858.82</td>\n",
       "      <td>Sim</td>\n",
       "    </tr>\n",
       "    <tr>\n",
       "      <th>1</th>\n",
       "      <td>58181</td>\n",
       "      <td>07.249.030/0001-85</td>\n",
       "      <td>07.249.030</td>\n",
       "      <td>011.021.253-34</td>\n",
       "      <td>1102125334</td>\n",
       "      <td>JULIO CESAR DE CARVALHO LIMA</td>\n",
       "      <td>SOCIO ADMINISTRADOR</td>\n",
       "      <td>7.249030e+12</td>\n",
       "      <td>TROPICAL FRUTOS CANAA LTDA - ME</td>\n",
       "      <td>NaN</td>\n",
       "      <td>180940.21</td>\n",
       "      <td>180940.21</td>\n",
       "      <td>180140.12</td>\n",
       "      <td>Sim</td>\n",
       "    </tr>\n",
       "    <tr>\n",
       "      <th>2</th>\n",
       "      <td>81355</td>\n",
       "      <td>08.824.330/0001-03</td>\n",
       "      <td>08.824.330</td>\n",
       "      <td>012.666.376-99</td>\n",
       "      <td>1266637699</td>\n",
       "      <td>NEWTON CARDOSO JUNIOR</td>\n",
       "      <td>DIRETOR</td>\n",
       "      <td>8.824330e+12</td>\n",
       "      <td>REMPLUS EMPREENDIMENTOS E PARTICIPACOES S.A</td>\n",
       "      <td>NaN</td>\n",
       "      <td>399364.26</td>\n",
       "      <td>399364.26</td>\n",
       "      <td>369228.49</td>\n",
       "      <td>Sim</td>\n",
       "    </tr>\n",
       "    <tr>\n",
       "      <th>3</th>\n",
       "      <td>97980</td>\n",
       "      <td>02.486.254/0001-97</td>\n",
       "      <td>02.486.254</td>\n",
       "      <td>012.666.376-99</td>\n",
       "      <td>1266637699</td>\n",
       "      <td>NEWTON CARDOSO JUNIOR</td>\n",
       "      <td>PRESIDENTE</td>\n",
       "      <td>2.486254e+12</td>\n",
       "      <td>GOODY INDUSTRIA DE ALIMENTOS S/A</td>\n",
       "      <td>3178531.78</td>\n",
       "      <td>NaN</td>\n",
       "      <td>3178531.78</td>\n",
       "      <td>2955953.66</td>\n",
       "      <td>Sim</td>\n",
       "    </tr>\n",
       "    <tr>\n",
       "      <th>4</th>\n",
       "      <td>106544</td>\n",
       "      <td>17.159.559/0001-61</td>\n",
       "      <td>17.159.559</td>\n",
       "      <td>012.666.376-99</td>\n",
       "      <td>1266637699</td>\n",
       "      <td>NEWTON CARDOSO JUNIOR</td>\n",
       "      <td>PRESIDENTE</td>\n",
       "      <td>1.715956e+13</td>\n",
       "      <td>COMPANHIA SIDERURGICA PITANGUI</td>\n",
       "      <td>NaN</td>\n",
       "      <td>16346425.89</td>\n",
       "      <td>16346425.89</td>\n",
       "      <td>9086518.16</td>\n",
       "      <td>Sim</td>\n",
       "    </tr>\n",
       "    <tr>\n",
       "      <th>5</th>\n",
       "      <td>280957</td>\n",
       "      <td>85.466.951/0001-03</td>\n",
       "      <td>85.466.951</td>\n",
       "      <td>119.792.169-91</td>\n",
       "      <td>11979216991</td>\n",
       "      <td>DILCEU JOAO SPERAFICO</td>\n",
       "      <td>SOCIO ADMINISTRADOR</td>\n",
       "      <td>8.546695e+13</td>\n",
       "      <td>SPERAFICO INCORPORADORA LTDA - EPP</td>\n",
       "      <td>NaN</td>\n",
       "      <td>663032.79</td>\n",
       "      <td>663032.79</td>\n",
       "      <td>132844.38</td>\n",
       "      <td>Sim</td>\n",
       "    </tr>\n",
       "    <tr>\n",
       "      <th>6</th>\n",
       "      <td>420817</td>\n",
       "      <td>76.546.399/0001-72</td>\n",
       "      <td>76.546.399</td>\n",
       "      <td>241.063.059-68</td>\n",
       "      <td>24106305968</td>\n",
       "      <td>JACOB ALFREDO STOFFELS KAEFER</td>\n",
       "      <td>SOCIO ADMINISTRADOR</td>\n",
       "      <td>7.654640e+13</td>\n",
       "      <td>SUPER DIP DISTRIBUICAO E VAREJO LTDA</td>\n",
       "      <td>17363332.34</td>\n",
       "      <td>NaN</td>\n",
       "      <td>17363332.34</td>\n",
       "      <td>15355965.75</td>\n",
       "      <td>Sim</td>\n",
       "    </tr>\n",
       "    <tr>\n",
       "      <th>7</th>\n",
       "      <td>699481</td>\n",
       "      <td>12.050.989/0001-27</td>\n",
       "      <td>12.050.989</td>\n",
       "      <td>732.553.198-20</td>\n",
       "      <td>73255319820</td>\n",
       "      <td>PAULO ROBERTO GOMES MANSUR</td>\n",
       "      <td>ADMINISTRADOR</td>\n",
       "      <td>1.205099e+13</td>\n",
       "      <td>AGROTRI AGROPECUARIA TRIANGULO LTDA</td>\n",
       "      <td>NaN</td>\n",
       "      <td>39217.72</td>\n",
       "      <td>39217.72</td>\n",
       "      <td>39217.72</td>\n",
       "      <td>Sim</td>\n",
       "    </tr>\n",
       "  </tbody>\n",
       "</table>\n",
       "</div>"
      ],
      "text/plain": [
       "    index        CNPJ_Devedor   CNPJ_Raiz    CPF_Deputado    CPF_limpo  \\\n",
       "0   56499  12.480.976/0001-98  12.480.976  010.557.374-48   1055737448   \n",
       "1   58181  07.249.030/0001-85  07.249.030  011.021.253-34   1102125334   \n",
       "2   81355  08.824.330/0001-03  08.824.330  012.666.376-99   1266637699   \n",
       "3   97980  02.486.254/0001-97  02.486.254  012.666.376-99   1266637699   \n",
       "4  106544  17.159.559/0001-61  17.159.559  012.666.376-99   1266637699   \n",
       "5  280957  85.466.951/0001-03  85.466.951  119.792.169-91  11979216991   \n",
       "6  420817  76.546.399/0001-72  76.546.399  241.063.059-68  24106305968   \n",
       "7  699481  12.050.989/0001-27  12.050.989  732.553.198-20  73255319820   \n",
       "\n",
       "                   Nome_Deputado              Vinculo    CNPJ_limpo  \\\n",
       "0    PEDRO TORRES BRANDAO VILELA  SOCIO ADMINISTRADOR  1.248098e+13   \n",
       "1   JULIO CESAR DE CARVALHO LIMA  SOCIO ADMINISTRADOR  7.249030e+12   \n",
       "2          NEWTON CARDOSO JUNIOR              DIRETOR  8.824330e+12   \n",
       "3          NEWTON CARDOSO JUNIOR           PRESIDENTE  2.486254e+12   \n",
       "4          NEWTON CARDOSO JUNIOR           PRESIDENTE  1.715956e+13   \n",
       "5          DILCEU JOAO SPERAFICO  SOCIO ADMINISTRADOR  8.546695e+13   \n",
       "6  JACOB ALFREDO STOFFELS KAEFER  SOCIO ADMINISTRADOR  7.654640e+13   \n",
       "7     PAULO ROBERTO GOMES MANSUR        ADMINISTRADOR  1.205099e+13   \n",
       "\n",
       "                                  Nome_Devedor  Valores_situacao_Irregular  \\\n",
       "0                    AGROPECUARIA INDIANA LTDA                         NaN   \n",
       "1              TROPICAL FRUTOS CANAA LTDA - ME                         NaN   \n",
       "2  REMPLUS EMPREENDIMENTOS E PARTICIPACOES S.A                         NaN   \n",
       "3             GOODY INDUSTRIA DE ALIMENTOS S/A                  3178531.78   \n",
       "4               COMPANHIA SIDERURGICA PITANGUI                         NaN   \n",
       "5           SPERAFICO INCORPORADORA LTDA - EPP                         NaN   \n",
       "6         SUPER DIP DISTRIBUICAO E VAREJO LTDA                 17363332.34   \n",
       "7          AGROTRI AGROPECUARIA TRIANGULO LTDA                         NaN   \n",
       "\n",
       "   Valores_situacao_Regular  Total_Devido  Total_lista_Funrural Mesma_empresa  \n",
       "0                  53858.82      53858.82              53858.82           Sim  \n",
       "1                 180940.21     180940.21             180140.12           Sim  \n",
       "2                 399364.26     399364.26             369228.49           Sim  \n",
       "3                       NaN    3178531.78            2955953.66           Sim  \n",
       "4               16346425.89   16346425.89            9086518.16           Sim  \n",
       "5                 663032.79     663032.79             132844.38           Sim  \n",
       "6                       NaN   17363332.34           15355965.75           Sim  \n",
       "7                  39217.72      39217.72              39217.72           Sim  "
      ]
     },
     "execution_count": 30,
     "metadata": {},
     "output_type": "execute_result"
    }
   ],
   "source": [
    "iguais.reset_index()"
   ]
  },
  {
   "cell_type": "code",
   "execution_count": null,
   "metadata": {},
   "outputs": [],
   "source": []
  },
  {
   "cell_type": "code",
   "execution_count": 31,
   "metadata": {},
   "outputs": [],
   "source": [
    "# Cria base única e salva CSV, que depois pode ser limpo"
   ]
  },
  {
   "cell_type": "code",
   "execution_count": 32,
   "metadata": {},
   "outputs": [],
   "source": [
    "dividas_unidas = pd.merge(dividas, iguais, left_on='CNPJ_Devedor', right_on='CNPJ_Devedor', how = 'outer')"
   ]
  },
  {
   "cell_type": "code",
   "execution_count": 33,
   "metadata": {},
   "outputs": [
    {
     "name": "stdout",
     "output_type": "stream",
     "text": [
      "<class 'pandas.core.frame.DataFrame'>\n",
      "Int64Index: 96 entries, 0 to 95\n",
      "Data columns (total 29 columns):\n",
      "CPF_Deputado_x                  96 non-null object\n",
      "CPF_limpo_x                     96 non-null int64\n",
      "Nome_Deputado_x                 96 non-null object\n",
      "Vinculo_x                       96 non-null object\n",
      "CNPJ_Devedor                    96 non-null object\n",
      "CNPJ_limpo_x                    96 non-null float64\n",
      "Nome_Devedor_x                  96 non-null object\n",
      "Valores_situacao_Irregular_x    59 non-null float64\n",
      "Valores_situacao_Regular_x      47 non-null float64\n",
      "Total_Devido_x                  96 non-null float64\n",
      "Estado                          96 non-null object\n",
      "Cargo                           96 non-null object\n",
      "Nome_candidato                  96 non-null object\n",
      "CPF                             96 non-null int64\n",
      "Nome_urna                       96 non-null object\n",
      "Partido                         96 non-null object\n",
      "Situacao                        96 non-null object\n",
      "CNPJ_Raiz                       8 non-null object\n",
      "CPF_Deputado_y                  8 non-null object\n",
      "CPF_limpo_y                     8 non-null float64\n",
      "Nome_Deputado_y                 8 non-null object\n",
      "Vinculo_y                       8 non-null object\n",
      "CNPJ_limpo_y                    8 non-null float64\n",
      "Nome_Devedor_y                  8 non-null object\n",
      "Valores_situacao_Irregular_y    2 non-null float64\n",
      "Valores_situacao_Regular_y      6 non-null float64\n",
      "Total_Devido_y                  8 non-null float64\n",
      "Total_lista_Funrural            8 non-null float64\n",
      "Mesma_empresa                   8 non-null object\n",
      "dtypes: float64(10), int64(2), object(17)\n",
      "memory usage: 22.5+ KB\n"
     ]
    }
   ],
   "source": [
    "dividas_unidas.info()"
   ]
  },
  {
   "cell_type": "code",
   "execution_count": null,
   "metadata": {},
   "outputs": [],
   "source": []
  },
  {
   "cell_type": "code",
   "execution_count": 34,
   "metadata": {},
   "outputs": [],
   "source": [
    "dividas_unidas.to_csv('dividas_unidas.csv')"
   ]
  },
  {
   "cell_type": "code",
   "execution_count": null,
   "metadata": {},
   "outputs": [],
   "source": []
  }
 ],
 "metadata": {
  "kernelspec": {
   "display_name": "Python 3",
   "language": "python",
   "name": "python3"
  },
  "language_info": {
   "codemirror_mode": {
    "name": "ipython",
    "version": 3
   },
   "file_extension": ".py",
   "mimetype": "text/x-python",
   "name": "python",
   "nbconvert_exporter": "python",
   "pygments_lexer": "ipython3",
   "version": "3.6.2"
  }
 },
 "nbformat": 4,
 "nbformat_minor": 2
}
