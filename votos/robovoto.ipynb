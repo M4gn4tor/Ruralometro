{
 "cells": [
  {
   "cell_type": "code",
   "execution_count": 2,
   "metadata": {},
   "outputs": [],
   "source": [
    "# -*- coding: utf-8\n",
    "# Repórter Brasil (http://ruralometro.reporterbrasil.org.br/)\n",
    "# Reinaldo Chaves (@paidatocandeira)\n",
    "# Entidades brasileiras que defendem direitos de trabalhadores e questões ambientais (Contag, Fase, ISA, CPT, Cimi, Apib, Abrinq) têm várias votações de projetos parlamentares que consideram relevantes. Este programa coleta os votos nos sites da Câmara dos Deputados\n",
    "#"
   ]
  },
  {
   "cell_type": "code",
   "execution_count": null,
   "metadata": {},
   "outputs": [],
   "source": []
  },
  {
   "cell_type": "code",
   "execution_count": null,
   "metadata": {},
   "outputs": [],
   "source": [
    "# Foram essas as votações coletadas:\n",
    "#http://www2.camara.leg.br/atividade-legislativa/plenario/chamadaExterna.html?link=http://www.camara.gov.br/internet/votacao/mostraVotacao.asp?ideVotacao=6706&tipo=partido\n",
    "#http://www2.camara.leg.br/atividade-legislativa/plenario/chamadaExterna.html?link=http://www.camara.gov.br/internet/votacao/mostraVotacao.asp?ideVotacao=7492&tipo=partido\n",
    "#http://www2.camara.leg.br/atividade-legislativa/plenario/chamadaExterna.html?link=http://www.camara.gov.br/internet/votacao/mostraVotacao.asp?ideVotacao=7431&tipo=partido\n",
    "#http://www2.camara.leg.br/atividade-legislativa/plenario/chamadaExterna.html?link=http://www.camara.gov.br/internet/votacao/mostraVotacao.asp?ideVotacao=7542&tipo=partido\n",
    "#http://www2.camara.leg.br/atividade-legislativa/plenario/chamadaExterna.html?link=http://www.camara.gov.br/internet/votacao/mostraVotacao.asp?ideVotacao=7556&tipo=partido\n",
    "#http://www2.camara.leg.br/atividade-legislativa/plenario/chamadaExterna.html?link=http://www.camara.gov.br/internet/votacao/mostraVotacao.asp?ideVotacao=6083&tipo=partido\n",
    "#http://www2.camara.leg.br/atividade-legislativa/plenario/chamadaExterna.html?link=http://www.camara.gov.br/internet/votacao/mostraVotacao.asp?ideVotacao=6310&tipo=partido\n",
    "#http://www2.camara.leg.br/atividade-legislativa/plenario/chamadaExterna.html?link=http://www.camara.gov.br/internet/votacao/mostraVotacao.asp?ideVotacao=6406&tipo=partido\n",
    "#http://www2.camara.leg.br/atividade-legislativa/plenario/chamadaExterna.html?link=http://www.camara.gov.br/internet/votacao/mostraVotacao.asp?ideVotacao=6531&tipo=partido\n",
    "#http://www2.camara.gov.br/atividade-legislativa/plenario/chamadaExterna.html?link=http://www.camara.gov.br/internet/votacao/mostraVotacao.asp?ideVotacao=6259&tipo=partido\n",
    "#http://www2.camara.leg.br/atividade-legislativa/plenario/chamadaExterna.html?link=http://www.camara.gov.br/internet/votacao/mostraVotacao.asp?ideVotacao=7252&tipo=partido\n",
    "#http://www2.camara.leg.br/atividade-legislativa/plenario/chamadaExterna.html?link=http://www.camara.gov.br/internet/votacao/mostraVotacao.asp?ideVotacao=7630&tipo=partido\n",
    "#http://www2.camara.leg.br/atividade-legislativa/plenario/chamadaExterna.html?link=http://www.camara.gov.br/internet/votacao/mostraVotacao.asp?ideVotacao=6286&tipo=partido\n",
    "#http://www2.camara.leg.br/atividade-legislativa/plenario/chamadaExterna.html?link=http://www.camara.gov.br/internet/votacao/mostraVotacao.asp?ideVotacao=6618&tipo=partido "
   ]
  },
  {
   "cell_type": "code",
   "execution_count": null,
   "metadata": {},
   "outputs": [],
   "source": []
  },
  {
   "cell_type": "code",
   "execution_count": 1,
   "metadata": {},
   "outputs": [],
   "source": [
    "import pandas as pd"
   ]
  },
  {
   "cell_type": "code",
   "execution_count": 2,
   "metadata": {},
   "outputs": [],
   "source": [
    "from selenium import webdriver"
   ]
  },
  {
   "cell_type": "code",
   "execution_count": null,
   "metadata": {},
   "outputs": [],
   "source": []
  },
  {
   "cell_type": "code",
   "execution_count": 15,
   "metadata": {},
   "outputs": [],
   "source": [
    "# Exemplo da raspagem de uma votação"
   ]
  },
  {
   "cell_type": "code",
   "execution_count": 3,
   "metadata": {},
   "outputs": [],
   "source": [
    "path_to_phantomjs = '/home/reinaldo/Documentos/phanthomjs/phantomjs-2.1.1-linux-x86_64/bin/phantomjs'"
   ]
  },
  {
   "cell_type": "code",
   "execution_count": 4,
   "metadata": {},
   "outputs": [],
   "source": [
    "driver = webdriver.PhantomJS(executable_path = path_to_phantomjs)"
   ]
  },
  {
   "cell_type": "code",
   "execution_count": 5,
   "metadata": {},
   "outputs": [],
   "source": [
    "driver.get(\"http://www2.camara.leg.br/atividade-legislativa/plenario/chamadaExterna.html?link=http://www.camara.gov.br/internet/votacao/mostraVotacao.asp?ideVotacao=6706&tipo=partido\")"
   ]
  },
  {
   "cell_type": "code",
   "execution_count": 6,
   "metadata": {},
   "outputs": [],
   "source": [
    "# os elementos estão dentro de um iframe, então, primeiro você precisa mudar para o iframe"
   ]
  },
  {
   "cell_type": "code",
   "execution_count": 7,
   "metadata": {},
   "outputs": [],
   "source": [
    "iframe = driver.find_element_by_xpath(\"//iframe[@id='ifr']\")"
   ]
  },
  {
   "cell_type": "code",
   "execution_count": 8,
   "metadata": {},
   "outputs": [],
   "source": [
    "driver.switch_to_frame(iframe)"
   ]
  },
  {
   "cell_type": "code",
   "execution_count": null,
   "metadata": {},
   "outputs": [],
   "source": []
  },
  {
   "cell_type": "code",
   "execution_count": 9,
   "metadata": {},
   "outputs": [],
   "source": [
    "nome_votacao = driver.find_element_by_xpath(\"//*[@id='corpoVotacao']/p[3]\")\n",
    "data_votacao = driver.find_element_by_xpath(\"//*[@id='corpoVotacao']/div[1]/div[1]/div/div/p[1]\")\n",
    "list_deputados = driver.find_elements_by_xpath(\"*//div[@id='listagem']/table[@class='tabela-2']/tbody/tr/td\")"
   ]
  },
  {
   "cell_type": "code",
   "execution_count": null,
   "metadata": {},
   "outputs": [],
   "source": []
  },
  {
   "cell_type": "code",
   "execution_count": 77,
   "metadata": {},
   "outputs": [
    {
     "name": "stdout",
     "output_type": "stream",
     "text": [
      "Proposição: MPV Nº 688/2015 - PROJETO DE LEI DE CONVERSÃO - Nominal Eletrônica\n",
      "----------------------------\n",
      "Início da votação: 10/11/2015 20:43\n",
      "Encerramento da votação: 10/11/2015 20:56\n",
      "----------------------------\n"
     ]
    }
   ],
   "source": [
    "print(nome_votacao.text)\n",
    "print(\"----------------------------\")\n",
    "\n",
    "print(data_votacao.text)\n",
    "\n",
    "print(\"----------------------------\")"
   ]
  },
  {
   "cell_type": "code",
   "execution_count": null,
   "metadata": {},
   "outputs": [],
   "source": []
  },
  {
   "cell_type": "code",
   "execution_count": 10,
   "metadata": {},
   "outputs": [
    {
     "name": "stdout",
     "output_type": "stream",
     "text": [
      "maxLen: 1319\n"
     ]
    }
   ],
   "source": [
    "i=0\n",
    "maxLen=len(list_deputados)\n",
    "print(\"maxLen: \" + str(maxLen))\n",
    "for deputado in list_deputados:\n",
    "    #print(\"Parlamentar: \" + list_deputados[i].text)\n",
    "    #print(\"UF: \" + list_deputados[i+1].text)\n",
    "    #print(\"Voto: \" + list_deputados[i+2].text)\n",
    "    i=i+3\n",
    "    #print(\"--------------\"+str(i)+\"-------------\")\n",
    "    if(i==maxLen-1): # não considera última linha: Total Solidaried: 11\n",
    "        break\n",
    "    if list_deputados[i].text.startswith(\"Total\"):\n",
    "        i = i+1\n",
    "\n",
    "\n",
    "driver.close()"
   ]
  },
  {
   "cell_type": "code",
   "execution_count": null,
   "metadata": {},
   "outputs": [],
   "source": []
  },
  {
   "cell_type": "code",
   "execution_count": null,
   "metadata": {},
   "outputs": [],
   "source": [
    "# Verifica quais votos foram de deputados eleitos em 2014"
   ]
  },
  {
   "cell_type": "code",
   "execution_count": 39,
   "metadata": {},
   "outputs": [],
   "source": [
    "# Acessa base dos eleitos fornecida pelo TSE "
   ]
  },
  {
   "cell_type": "code",
   "execution_count": 40,
   "metadata": {},
   "outputs": [],
   "source": [
    "candidatos = pd.read_csv(\"candidatos_nome_urna_csv.csv\",sep=',',encoding = 'latin_1')"
   ]
  },
  {
   "cell_type": "code",
   "execution_count": 41,
   "metadata": {},
   "outputs": [],
   "source": [
    "eleitos = candidatos[(candidatos['Situacao'] == 'ELEITO POR QP') | (candidatos['Situacao'] == 'ELEITO POR MÉDIA') | (candidatos['Situacao'] == 'ELEITO')]"
   ]
  },
  {
   "cell_type": "code",
   "execution_count": 42,
   "metadata": {},
   "outputs": [],
   "source": [
    "eleitos_d = eleitos[(eleitos['Cargo'] == 'DEPUTADO FEDERAL')]"
   ]
  },
  {
   "cell_type": "code",
   "execution_count": 43,
   "metadata": {},
   "outputs": [
    {
     "name": "stdout",
     "output_type": "stream",
     "text": [
      "<class 'pandas.core.frame.DataFrame'>\n",
      "Int64Index: 513 entries, 23 to 26219\n",
      "Data columns (total 8 columns):\n",
      "Estado               513 non-null object\n",
      "Cargo                513 non-null object\n",
      "Nome_candidato       513 non-null object\n",
      "CPF                  513 non-null int64\n",
      "Nome_urna            513 non-null object\n",
      "Partido              513 non-null object\n",
      "Situacao             513 non-null object\n",
      "Nome_urna_votacao    513 non-null object\n",
      "dtypes: int64(1), object(7)\n",
      "memory usage: 36.1+ KB\n"
     ]
    }
   ],
   "source": [
    "eleitos_d.info()"
   ]
  },
  {
   "cell_type": "code",
   "execution_count": null,
   "metadata": {},
   "outputs": [],
   "source": []
  },
  {
   "cell_type": "code",
   "execution_count": 44,
   "metadata": {},
   "outputs": [],
   "source": [
    "# Acessa a base com todos os votos reunidos dos projetos, já com a classificação dada pelas entidades"
   ]
  },
  {
   "cell_type": "code",
   "execution_count": 45,
   "metadata": {},
   "outputs": [],
   "source": [
    "votos = pd.read_csv(\"projetos_votos_csv.csv\",sep=',',encoding = 'latin_1')"
   ]
  },
  {
   "cell_type": "code",
   "execution_count": 46,
   "metadata": {},
   "outputs": [
    {
     "name": "stdout",
     "output_type": "stream",
     "text": [
      "<class 'pandas.core.frame.DataFrame'>\n",
      "RangeIndex: 6167 entries, 0 to 6166\n",
      "Data columns (total 10 columns):\n",
      "Projeto                    6167 non-null object\n",
      "Data_votacao               6167 non-null object\n",
      "Partido_na_data_votacao    6167 non-null object\n",
      "Deputado                   6167 non-null object\n",
      "UF                         6167 non-null object\n",
      "Voto                       6167 non-null object\n",
      "Avaliado_por               6167 non-null object\n",
      "Avaliacao                  6167 non-null object\n",
      "Relevancia                 6167 non-null object\n",
      "Nome_consulta              6167 non-null object\n",
      "dtypes: object(10)\n",
      "memory usage: 481.9+ KB\n"
     ]
    }
   ],
   "source": [
    "votos.info()"
   ]
  },
  {
   "cell_type": "code",
   "execution_count": 47,
   "metadata": {},
   "outputs": [
    {
     "data": {
      "text/html": [
       "<div>\n",
       "<style scoped>\n",
       "    .dataframe tbody tr th:only-of-type {\n",
       "        vertical-align: middle;\n",
       "    }\n",
       "\n",
       "    .dataframe tbody tr th {\n",
       "        vertical-align: top;\n",
       "    }\n",
       "\n",
       "    .dataframe thead th {\n",
       "        text-align: right;\n",
       "    }\n",
       "</style>\n",
       "<table border=\"1\" class=\"dataframe\">\n",
       "  <thead>\n",
       "    <tr style=\"text-align: right;\">\n",
       "      <th></th>\n",
       "      <th>index</th>\n",
       "      <th>Projeto</th>\n",
       "      <th>Data_votacao</th>\n",
       "      <th>Partido_na_data_votacao</th>\n",
       "      <th>Deputado</th>\n",
       "      <th>UF</th>\n",
       "      <th>Voto</th>\n",
       "      <th>Avaliado_por</th>\n",
       "      <th>Avaliacao</th>\n",
       "      <th>Relevancia</th>\n",
       "      <th>Nome_consulta</th>\n",
       "    </tr>\n",
       "  </thead>\n",
       "  <tbody>\n",
       "    <tr>\n",
       "      <th>0</th>\n",
       "      <td>0</td>\n",
       "      <td>MPV 688/2015</td>\n",
       "      <td>10/11/15</td>\n",
       "      <td>DEM</td>\n",
       "      <td>Alberto Fraga</td>\n",
       "      <td>DF</td>\n",
       "      <td>Não</td>\n",
       "      <td>Greenpeace</td>\n",
       "      <td>Desfavorável</td>\n",
       "      <td>Pouco relevante</td>\n",
       "      <td>ALBERTO FRAGA</td>\n",
       "    </tr>\n",
       "    <tr>\n",
       "      <th>1</th>\n",
       "      <td>1</td>\n",
       "      <td>MPV 688/2015</td>\n",
       "      <td>10/11/15</td>\n",
       "      <td>DEM</td>\n",
       "      <td>Alexandre Leite</td>\n",
       "      <td>SP</td>\n",
       "      <td>Não</td>\n",
       "      <td>Greenpeace</td>\n",
       "      <td>Desfavorável</td>\n",
       "      <td>Pouco relevante</td>\n",
       "      <td>ALEXANDRE LEITE</td>\n",
       "    </tr>\n",
       "    <tr>\n",
       "      <th>2</th>\n",
       "      <td>2</td>\n",
       "      <td>MPV 688/2015</td>\n",
       "      <td>10/11/15</td>\n",
       "      <td>DEM</td>\n",
       "      <td>Claudio Cajado</td>\n",
       "      <td>BA</td>\n",
       "      <td>Não</td>\n",
       "      <td>Greenpeace</td>\n",
       "      <td>Desfavorável</td>\n",
       "      <td>Pouco relevante</td>\n",
       "      <td>CLAUDIO CAJADO</td>\n",
       "    </tr>\n",
       "    <tr>\n",
       "      <th>3</th>\n",
       "      <td>3</td>\n",
       "      <td>MPV 688/2015</td>\n",
       "      <td>10/11/15</td>\n",
       "      <td>DEM</td>\n",
       "      <td>Efraim Filho</td>\n",
       "      <td>PB</td>\n",
       "      <td>Não</td>\n",
       "      <td>Greenpeace</td>\n",
       "      <td>Desfavorável</td>\n",
       "      <td>Pouco relevante</td>\n",
       "      <td>EFRAIM FILHO</td>\n",
       "    </tr>\n",
       "    <tr>\n",
       "      <th>4</th>\n",
       "      <td>4</td>\n",
       "      <td>MPV 688/2015</td>\n",
       "      <td>10/11/15</td>\n",
       "      <td>DEM</td>\n",
       "      <td>Felipe Maia</td>\n",
       "      <td>RN</td>\n",
       "      <td>Não</td>\n",
       "      <td>Greenpeace</td>\n",
       "      <td>Desfavorável</td>\n",
       "      <td>Pouco relevante</td>\n",
       "      <td>FELIPE MAIA</td>\n",
       "    </tr>\n",
       "  </tbody>\n",
       "</table>\n",
       "</div>"
      ],
      "text/plain": [
       "   index       Projeto Data_votacao Partido_na_data_votacao         Deputado  \\\n",
       "0      0  MPV 688/2015     10/11/15                     DEM    Alberto Fraga   \n",
       "1      1  MPV 688/2015     10/11/15                     DEM  Alexandre Leite   \n",
       "2      2  MPV 688/2015     10/11/15                     DEM   Claudio Cajado   \n",
       "3      3  MPV 688/2015     10/11/15                     DEM     Efraim Filho   \n",
       "4      4  MPV 688/2015     10/11/15                     DEM      Felipe Maia   \n",
       "\n",
       "   UF Voto Avaliado_por     Avaliacao       Relevancia    Nome_consulta  \n",
       "0  DF  Não   Greenpeace  Desfavorável  Pouco relevante    ALBERTO FRAGA  \n",
       "1  SP  Não   Greenpeace  Desfavorável  Pouco relevante  ALEXANDRE LEITE  \n",
       "2  BA  Não   Greenpeace  Desfavorável  Pouco relevante   CLAUDIO CAJADO  \n",
       "3  PB  Não   Greenpeace  Desfavorável  Pouco relevante     EFRAIM FILHO  \n",
       "4  RN  Não   Greenpeace  Desfavorável  Pouco relevante      FELIPE MAIA  "
      ]
     },
     "execution_count": 47,
     "metadata": {},
     "output_type": "execute_result"
    }
   ],
   "source": [
    "votos.head().reset_index()"
   ]
  },
  {
   "cell_type": "code",
   "execution_count": null,
   "metadata": {},
   "outputs": [],
   "source": []
  },
  {
   "cell_type": "code",
   "execution_count": 50,
   "metadata": {},
   "outputs": [],
   "source": [
    "votos_eleitos = pd.merge(votos, eleitos_d, left_on='Nome_consulta', right_on='Nome_urna_votacao')"
   ]
  },
  {
   "cell_type": "code",
   "execution_count": null,
   "metadata": {},
   "outputs": [],
   "source": []
  },
  {
   "cell_type": "code",
   "execution_count": null,
   "metadata": {},
   "outputs": [],
   "source": [
    "# Acima foi feito apenas um merge pelo nome urna, porque as votações não têm CPF do político"
   ]
  },
  {
   "cell_type": "code",
   "execution_count": null,
   "metadata": {},
   "outputs": [],
   "source": [
    "# Mas como mostrado nos programas das pastas bancadas, fotos, partidos e projetos esse metódo não pega todos os políticos porque alguns mudam seus nomes depois de eleitos"
   ]
  },
  {
   "cell_type": "code",
   "execution_count": null,
   "metadata": {},
   "outputs": [],
   "source": [
    "# Aqui foi feita uma checagem manual que gerou o arquivo final abaixo - que já tem partido atual (dezembro de 2017) dos políticos"
   ]
  },
  {
   "cell_type": "code",
   "execution_count": null,
   "metadata": {},
   "outputs": [],
   "source": []
  },
  {
   "cell_type": "code",
   "execution_count": 48,
   "metadata": {},
   "outputs": [],
   "source": [
    "votos_final = pd.read_excel('dia3_12_votoseleitos.xls')"
   ]
  },
  {
   "cell_type": "code",
   "execution_count": 49,
   "metadata": {},
   "outputs": [
    {
     "name": "stdout",
     "output_type": "stream",
     "text": [
      "<class 'pandas.core.frame.DataFrame'>\n",
      "RangeIndex: 5289 entries, 0 to 5288\n",
      "Data columns (total 13 columns):\n",
      "Projeto_votacao                5289 non-null object\n",
      "Projeto_Data_votacao           5289 non-null object\n",
      "Partido_na_data_votacao        5289 non-null object\n",
      "Projeto_Voto                   5289 non-null object\n",
      "Projeto_Avaliado_por           5289 non-null object\n",
      "Projeto_Avaliacao              5289 non-null object\n",
      "Projeto_Relevancia             5289 non-null object\n",
      "Politico_CPF                   5289 non-null int64\n",
      "Politico_Partido_na_eleicao    5289 non-null object\n",
      "Politico_Nome_urna_votacao     5289 non-null object\n",
      "Partido_atual                  5289 non-null object\n",
      "Esta_no_cargo                  5289 non-null object\n",
      "Descricao                      5289 non-null object\n",
      "dtypes: int64(1), object(12)\n",
      "memory usage: 537.2+ KB\n"
     ]
    }
   ],
   "source": [
    "votos_final.info()"
   ]
  },
  {
   "cell_type": "code",
   "execution_count": 52,
   "metadata": {},
   "outputs": [
    {
     "data": {
      "text/html": [
       "<div>\n",
       "<style scoped>\n",
       "    .dataframe tbody tr th:only-of-type {\n",
       "        vertical-align: middle;\n",
       "    }\n",
       "\n",
       "    .dataframe tbody tr th {\n",
       "        vertical-align: top;\n",
       "    }\n",
       "\n",
       "    .dataframe thead th {\n",
       "        text-align: right;\n",
       "    }\n",
       "</style>\n",
       "<table border=\"1\" class=\"dataframe\">\n",
       "  <thead>\n",
       "    <tr style=\"text-align: right;\">\n",
       "      <th></th>\n",
       "      <th>index</th>\n",
       "      <th>Projeto_votacao</th>\n",
       "      <th>Projeto_Data_votacao</th>\n",
       "      <th>Partido_na_data_votacao</th>\n",
       "      <th>Projeto_Voto</th>\n",
       "      <th>Projeto_Avaliado_por</th>\n",
       "      <th>Projeto_Avaliacao</th>\n",
       "      <th>Projeto_Relevancia</th>\n",
       "      <th>Politico_CPF</th>\n",
       "      <th>Politico_Partido_na_eleicao</th>\n",
       "      <th>Politico_Nome_urna_votacao</th>\n",
       "      <th>Partido_atual</th>\n",
       "      <th>Esta_no_cargo</th>\n",
       "      <th>Descricao</th>\n",
       "    </tr>\n",
       "  </thead>\n",
       "  <tbody>\n",
       "    <tr>\n",
       "      <th>0</th>\n",
       "      <td>0</td>\n",
       "      <td>MPV 664/2014</td>\n",
       "      <td>13/05/15</td>\n",
       "      <td>DEM</td>\n",
       "      <td>Não</td>\n",
       "      <td>Contar</td>\n",
       "      <td>Desfavorável</td>\n",
       "      <td>Pouco relevante</td>\n",
       "      <td>11939141168</td>\n",
       "      <td>DEM</td>\n",
       "      <td>ALBERTO FRAGA</td>\n",
       "      <td>DEM</td>\n",
       "      <td>Sim</td>\n",
       "      <td>A medida provisória, aprovada em maio de 2015,...</td>\n",
       "    </tr>\n",
       "    <tr>\n",
       "      <th>1</th>\n",
       "      <td>1</td>\n",
       "      <td>MPV 664/2014</td>\n",
       "      <td>13/05/15</td>\n",
       "      <td>DEM</td>\n",
       "      <td>Não</td>\n",
       "      <td>Contar</td>\n",
       "      <td>Desfavorável</td>\n",
       "      <td>Pouco relevante</td>\n",
       "      <td>22970812860</td>\n",
       "      <td>DEM</td>\n",
       "      <td>ALEXANDRE LEITE</td>\n",
       "      <td>DEM</td>\n",
       "      <td>Sim</td>\n",
       "      <td>A medida provisória, aprovada em maio de 2015,...</td>\n",
       "    </tr>\n",
       "    <tr>\n",
       "      <th>2</th>\n",
       "      <td>2</td>\n",
       "      <td>MPV 664/2014</td>\n",
       "      <td>13/05/15</td>\n",
       "      <td>DEM</td>\n",
       "      <td>Sim</td>\n",
       "      <td>Contar</td>\n",
       "      <td>Desfavorável</td>\n",
       "      <td>Pouco relevante</td>\n",
       "      <td>29474485534</td>\n",
       "      <td>DEM</td>\n",
       "      <td>CLAUDIO CAJADO</td>\n",
       "      <td>DEM</td>\n",
       "      <td>Sim</td>\n",
       "      <td>A medida provisória, aprovada em maio de 2015,...</td>\n",
       "    </tr>\n",
       "    <tr>\n",
       "      <th>3</th>\n",
       "      <td>3</td>\n",
       "      <td>MPV 664/2014</td>\n",
       "      <td>13/05/15</td>\n",
       "      <td>DEM</td>\n",
       "      <td>Não</td>\n",
       "      <td>Contar</td>\n",
       "      <td>Desfavorável</td>\n",
       "      <td>Pouco relevante</td>\n",
       "      <td>770338410</td>\n",
       "      <td>DEM</td>\n",
       "      <td>EFRAIM FILHO</td>\n",
       "      <td>DEM</td>\n",
       "      <td>Sim</td>\n",
       "      <td>A medida provisória, aprovada em maio de 2015,...</td>\n",
       "    </tr>\n",
       "    <tr>\n",
       "      <th>4</th>\n",
       "      <td>4</td>\n",
       "      <td>MPV 664/2014</td>\n",
       "      <td>13/05/15</td>\n",
       "      <td>DEM</td>\n",
       "      <td>Não</td>\n",
       "      <td>Contar</td>\n",
       "      <td>Desfavorável</td>\n",
       "      <td>Pouco relevante</td>\n",
       "      <td>17610241830</td>\n",
       "      <td>DEM</td>\n",
       "      <td>ELI CORRÊA FILHO</td>\n",
       "      <td>DEM</td>\n",
       "      <td>Sim</td>\n",
       "      <td>A medida provisória, aprovada em maio de 2015,...</td>\n",
       "    </tr>\n",
       "  </tbody>\n",
       "</table>\n",
       "</div>"
      ],
      "text/plain": [
       "   index Projeto_votacao Projeto_Data_votacao Partido_na_data_votacao  \\\n",
       "0      0    MPV 664/2014             13/05/15                     DEM   \n",
       "1      1    MPV 664/2014             13/05/15                     DEM   \n",
       "2      2    MPV 664/2014             13/05/15                     DEM   \n",
       "3      3    MPV 664/2014             13/05/15                     DEM   \n",
       "4      4    MPV 664/2014             13/05/15                     DEM   \n",
       "\n",
       "  Projeto_Voto Projeto_Avaliado_por Projeto_Avaliacao Projeto_Relevancia  \\\n",
       "0          Não              Contar       Desfavorável    Pouco relevante   \n",
       "1          Não              Contar       Desfavorável    Pouco relevante   \n",
       "2          Sim              Contar       Desfavorável    Pouco relevante   \n",
       "3          Não              Contar       Desfavorável    Pouco relevante   \n",
       "4          Não              Contar       Desfavorável    Pouco relevante   \n",
       "\n",
       "   Politico_CPF Politico_Partido_na_eleicao Politico_Nome_urna_votacao  \\\n",
       "0   11939141168                         DEM              ALBERTO FRAGA   \n",
       "1   22970812860                         DEM            ALEXANDRE LEITE   \n",
       "2   29474485534                         DEM             CLAUDIO CAJADO   \n",
       "3     770338410                         DEM               EFRAIM FILHO   \n",
       "4   17610241830                         DEM           ELI CORRÊA FILHO   \n",
       "\n",
       "  Partido_atual Esta_no_cargo  \\\n",
       "0           DEM           Sim   \n",
       "1           DEM           Sim   \n",
       "2           DEM           Sim   \n",
       "3           DEM           Sim   \n",
       "4           DEM           Sim   \n",
       "\n",
       "                                           Descricao  \n",
       "0  A medida provisória, aprovada em maio de 2015,...  \n",
       "1  A medida provisória, aprovada em maio de 2015,...  \n",
       "2  A medida provisória, aprovada em maio de 2015,...  \n",
       "3  A medida provisória, aprovada em maio de 2015,...  \n",
       "4  A medida provisória, aprovada em maio de 2015,...  "
      ]
     },
     "execution_count": 52,
     "metadata": {},
     "output_type": "execute_result"
    }
   ],
   "source": [
    "votos_final.head().reset_index()"
   ]
  },
  {
   "cell_type": "code",
   "execution_count": null,
   "metadata": {},
   "outputs": [],
   "source": []
  }
 ],
 "metadata": {
  "kernelspec": {
   "display_name": "Python 3",
   "language": "python",
   "name": "python3"
  },
  "language_info": {
   "codemirror_mode": {
    "name": "ipython",
    "version": 3
   },
   "file_extension": ".py",
   "mimetype": "text/x-python",
   "name": "python",
   "nbconvert_exporter": "python",
   "pygments_lexer": "ipython3",
   "version": "3.6.2"
  }
 },
 "nbformat": 4,
 "nbformat_minor": 2
}
