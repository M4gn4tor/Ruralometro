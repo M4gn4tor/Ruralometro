{
 "cells": [
  {
   "cell_type": "code",
   "execution_count": 1,
   "metadata": {},
   "outputs": [],
   "source": [
    "# -*- coding: utf-8\n",
    "# Repórter Brasil (http://ruralometro.reporterbrasil.org.br/)\n",
    "# Reinaldo Chaves (@paidatocandeira)\n",
    "# Entidades brasileiras que defendem direitos de trabalhadores e questões ambientais (Contag, Fase, ISA, CPT, Cimi, Apib, Abrinq) têm vários projetos parlamentares que consideram relevantes. Este programa verifica quais projetos são de deputados eleitos em 2014\n",
    "#"
   ]
  },
  {
   "cell_type": "code",
   "execution_count": 5,
   "metadata": {},
   "outputs": [],
   "source": [
    "import pandas as pd"
   ]
  },
  {
   "cell_type": "code",
   "execution_count": null,
   "metadata": {},
   "outputs": [],
   "source": []
  },
  {
   "cell_type": "code",
   "execution_count": 6,
   "metadata": {},
   "outputs": [],
   "source": [
    "# Cria base só com deputados eleitos em 2014, a partir dos dados do TSE"
   ]
  },
  {
   "cell_type": "code",
   "execution_count": 7,
   "metadata": {},
   "outputs": [],
   "source": [
    "candidatos = pd.read_csv(\"candidatos_nome_urna_csv.csv\",sep=',',encoding = 'latin_1')"
   ]
  },
  {
   "cell_type": "code",
   "execution_count": 8,
   "metadata": {},
   "outputs": [
    {
     "name": "stdout",
     "output_type": "stream",
     "text": [
      "<class 'pandas.core.frame.DataFrame'>\n",
      "RangeIndex: 26245 entries, 0 to 26244\n",
      "Data columns (total 8 columns):\n",
      "Estado               26245 non-null object\n",
      "Cargo                26245 non-null object\n",
      "Nome_candidato       26245 non-null object\n",
      "CPF                  26245 non-null int64\n",
      "Nome_urna            26245 non-null object\n",
      "Partido              26245 non-null object\n",
      "Situacao             26245 non-null object\n",
      "Nome_urna_votacao    26245 non-null object\n",
      "dtypes: int64(1), object(7)\n",
      "memory usage: 1.6+ MB\n"
     ]
    }
   ],
   "source": [
    "candidatos.info()"
   ]
  },
  {
   "cell_type": "code",
   "execution_count": 9,
   "metadata": {},
   "outputs": [],
   "source": [
    "eleitos = candidatos[(candidatos['Situacao'] == 'ELEITO POR QP') | (candidatos['Situacao'] == 'ELEITO POR MÉDIA') | (candidatos['Situacao'] == 'ELEITO')]"
   ]
  },
  {
   "cell_type": "code",
   "execution_count": 10,
   "metadata": {},
   "outputs": [],
   "source": [
    "eleitos_d = eleitos[(eleitos['Cargo'] == 'DEPUTADO FEDERAL')]"
   ]
  },
  {
   "cell_type": "code",
   "execution_count": 11,
   "metadata": {},
   "outputs": [
    {
     "name": "stdout",
     "output_type": "stream",
     "text": [
      "<class 'pandas.core.frame.DataFrame'>\n",
      "Int64Index: 513 entries, 23 to 26219\n",
      "Data columns (total 8 columns):\n",
      "Estado               513 non-null object\n",
      "Cargo                513 non-null object\n",
      "Nome_candidato       513 non-null object\n",
      "CPF                  513 non-null int64\n",
      "Nome_urna            513 non-null object\n",
      "Partido              513 non-null object\n",
      "Situacao             513 non-null object\n",
      "Nome_urna_votacao    513 non-null object\n",
      "dtypes: int64(1), object(7)\n",
      "memory usage: 36.1+ KB\n"
     ]
    }
   ],
   "source": [
    "eleitos_d.info()"
   ]
  },
  {
   "cell_type": "code",
   "execution_count": null,
   "metadata": {},
   "outputs": [],
   "source": []
  },
  {
   "cell_type": "code",
   "execution_count": 12,
   "metadata": {},
   "outputs": [],
   "source": [
    "# Cruzamento geral com arquivo de projetos das entidades"
   ]
  },
  {
   "cell_type": "code",
   "execution_count": 16,
   "metadata": {},
   "outputs": [],
   "source": [
    "lista_projs = pd.read_csv(\"projetos_reunidos_versao_dia_26_final_csv.csv\",sep=';',encoding = 'latin_1')"
   ]
  },
  {
   "cell_type": "code",
   "execution_count": 17,
   "metadata": {},
   "outputs": [
    {
     "name": "stdout",
     "output_type": "stream",
     "text": [
      "<class 'pandas.core.frame.DataFrame'>\n",
      "RangeIndex: 502 entries, 0 to 501\n",
      "Data columns (total 11 columns):\n",
      "Projeto               502 non-null object\n",
      "Autor                 502 non-null object\n",
      "Autor_isolado         502 non-null object\n",
      "Ementa                91 non-null object\n",
      "Assunto               93 non-null object\n",
      "Indicado_por          419 non-null object\n",
      "Quem_avaliou          496 non-null object\n",
      "Qual_avaliacao        485 non-null object\n",
      "Tem_outros_autores    105 non-null object\n",
      "Situacao              52 non-null object\n",
      "Analise               52 non-null object\n",
      "dtypes: object(11)\n",
      "memory usage: 43.2+ KB\n"
     ]
    }
   ],
   "source": [
    "lista_projs.info()"
   ]
  },
  {
   "cell_type": "code",
   "execution_count": null,
   "metadata": {},
   "outputs": [],
   "source": []
  },
  {
   "cell_type": "code",
   "execution_count": 18,
   "metadata": {},
   "outputs": [],
   "source": [
    "projetos_eleitos = pd.merge(lista_projs, eleitos_d, left_on='Autor_isolado', right_on='Nome_urna_votacao')"
   ]
  },
  {
   "cell_type": "code",
   "execution_count": 19,
   "metadata": {
    "scrolled": true
   },
   "outputs": [
    {
     "name": "stdout",
     "output_type": "stream",
     "text": [
      "<class 'pandas.core.frame.DataFrame'>\n",
      "Int64Index: 193 entries, 0 to 192\n",
      "Data columns (total 19 columns):\n",
      "Projeto               193 non-null object\n",
      "Autor                 193 non-null object\n",
      "Autor_isolado         193 non-null object\n",
      "Ementa                42 non-null object\n",
      "Assunto               44 non-null object\n",
      "Indicado_por          181 non-null object\n",
      "Quem_avaliou          188 non-null object\n",
      "Qual_avaliacao        182 non-null object\n",
      "Tem_outros_autores    14 non-null object\n",
      "Situacao_x            10 non-null object\n",
      "Analise               10 non-null object\n",
      "Estado                193 non-null object\n",
      "Cargo                 193 non-null object\n",
      "Nome_candidato        193 non-null object\n",
      "CPF                   193 non-null int64\n",
      "Nome_urna             193 non-null object\n",
      "Partido               193 non-null object\n",
      "Situacao_y            193 non-null object\n",
      "Nome_urna_votacao     193 non-null object\n",
      "dtypes: int64(1), object(18)\n",
      "memory usage: 30.2+ KB\n"
     ]
    }
   ],
   "source": [
    "projetos_eleitos.info()"
   ]
  },
  {
   "cell_type": "code",
   "execution_count": 20,
   "metadata": {},
   "outputs": [],
   "source": [
    "projetos_eleitos.to_csv('dia17_11_projs_dep_eleitos.csv')"
   ]
  },
  {
   "cell_type": "code",
   "execution_count": 3,
   "metadata": {},
   "outputs": [],
   "source": [
    "# Depois pela relevância dos projetos ou enquadramento no foco do projeto escolhemos usar 131 dos 193. Os 131 estão em http://ruralometro.reporterbrasil.org.br/metodologia#download"
   ]
  },
  {
   "cell_type": "code",
   "execution_count": null,
   "metadata": {},
   "outputs": [],
   "source": []
  }
 ],
 "metadata": {
  "kernelspec": {
   "display_name": "Python 3",
   "language": "python",
   "name": "python3"
  },
  "language_info": {
   "codemirror_mode": {
    "name": "ipython",
    "version": 3
   },
   "file_extension": ".py",
   "mimetype": "text/x-python",
   "name": "python",
   "nbconvert_exporter": "python",
   "pygments_lexer": "ipython3",
   "version": "3.6.2"
  }
 },
 "nbformat": 4,
 "nbformat_minor": 2
}
