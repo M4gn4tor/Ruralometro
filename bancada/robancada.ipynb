{
 "cells": [
  {
   "cell_type": "code",
   "execution_count": null,
   "metadata": {},
   "outputs": [],
   "source": [
    "# -*- coding: utf-8\n",
    "# Repórter Brasil (http://ruralometro.reporterbrasil.org.br/)\n",
    "# Reinaldo Chaves (@paidatocandeira)\n",
    "# Cria bases com nomes da bancada ruralista a partir de cruzamento de lista do TSE com deputados eleitos com nomes FPA\n",
    "#"
   ]
  },
  {
   "cell_type": "code",
   "execution_count": null,
   "metadata": {},
   "outputs": [],
   "source": [
    "import pandas as pd"
   ]
  },
  {
   "cell_type": "code",
   "execution_count": null,
   "metadata": {},
   "outputs": [],
   "source": []
  },
  {
   "cell_type": "code",
   "execution_count": 3,
   "metadata": {},
   "outputs": [],
   "source": [
    "# Carrega lista de deputados eleitos em 2014 - gerada com dados oficiais do http://www.tse.jus.br/eleitor-e-eleicoes/estatisticas/repositorio-de-dados-eleitorais-1/repositorio-de-dados-eleitorais¶"
   ]
  },
  {
   "cell_type": "code",
   "execution_count": 4,
   "metadata": {},
   "outputs": [],
   "source": [
    "candidatos = pd.read_csv(\"candidatos_nome_urna_csv.csv\",sep=';',encoding = 'latin_1')"
   ]
  },
  {
   "cell_type": "code",
   "execution_count": 5,
   "metadata": {},
   "outputs": [],
   "source": [
    "eleitos = candidatos[(candidatos['Situacao'] == 'ELEITO POR QP') | (candidatos['Situacao'] == 'ELEITO POR MÉDIA') | (candidatos['Situacao'] == 'ELEITO')]"
   ]
  },
  {
   "cell_type": "code",
   "execution_count": 6,
   "metadata": {},
   "outputs": [],
   "source": [
    "eleitos_d = eleitos[(eleitos['Cargo'] == 'DEPUTADO FEDERAL')]"
   ]
  },
  {
   "cell_type": "code",
   "execution_count": 7,
   "metadata": {},
   "outputs": [
    {
     "name": "stdout",
     "output_type": "stream",
     "text": [
      "<class 'pandas.core.frame.DataFrame'>\n",
      "Int64Index: 513 entries, 23 to 26219\n",
      "Data columns (total 7 columns):\n",
      "Estado            513 non-null object\n",
      "Cargo             513 non-null object\n",
      "Nome_candidato    513 non-null object\n",
      "CPF               513 non-null int64\n",
      "Nome_urna         513 non-null object\n",
      "Partido           513 non-null object\n",
      "Situacao          513 non-null object\n",
      "dtypes: int64(1), object(6)\n",
      "memory usage: 32.1+ KB\n"
     ]
    }
   ],
   "source": [
    "eleitos_d.info()"
   ]
  },
  {
   "cell_type": "code",
   "execution_count": null,
   "metadata": {},
   "outputs": [],
   "source": []
  },
  {
   "cell_type": "markdown",
   "metadata": {},
   "source": [
    "# Carrega nomes da Frente parlamentar Agropecuária"
   ]
  },
  {
   "cell_type": "code",
   "execution_count": 8,
   "metadata": {},
   "outputs": [],
   "source": [
    "# http://www.fpagropecuaria.org.br/integrantes"
   ]
  },
  {
   "cell_type": "code",
   "execution_count": 10,
   "metadata": {},
   "outputs": [],
   "source": [
    "bancada = pd.read_csv(\"bancada_rur.csv\",sep=';',encoding = 'latin_1')"
   ]
  },
  {
   "cell_type": "code",
   "execution_count": 11,
   "metadata": {},
   "outputs": [
    {
     "name": "stdout",
     "output_type": "stream",
     "text": [
      "<class 'pandas.core.frame.DataFrame'>\n",
      "RangeIndex: 257 entries, 0 to 256\n",
      "Data columns (total 5 columns):\n",
      "Nome                      257 non-null object\n",
      "Nome_consulta_bancada     257 non-null object\n",
      "Estado                    257 non-null object\n",
      "Cargo_bancada_novembro    20 non-null object\n",
      "Partido_novembro          257 non-null object\n",
      "dtypes: object(5)\n",
      "memory usage: 10.1+ KB\n"
     ]
    }
   ],
   "source": [
    "bancada.info()"
   ]
  },
  {
   "cell_type": "code",
   "execution_count": null,
   "metadata": {},
   "outputs": [],
   "source": []
  },
  {
   "cell_type": "markdown",
   "metadata": {},
   "source": [
    "# Checa bancada ruralista com nomes de deputados eleitos"
   ]
  },
  {
   "cell_type": "code",
   "execution_count": 12,
   "metadata": {},
   "outputs": [],
   "source": [
    "# Comparação pelo campo Nome urna da base do TSE, que deveria corresponder com o nome no site da Câmara"
   ]
  },
  {
   "cell_type": "code",
   "execution_count": 13,
   "metadata": {},
   "outputs": [],
   "source": [
    "# É a comparação possível porque a base da bancada não tem o CPF"
   ]
  },
  {
   "cell_type": "code",
   "execution_count": 14,
   "metadata": {},
   "outputs": [],
   "source": [
    "bancada_eleitos = pd.merge(eleitos_d, bancada, left_on='Nome_urna', right_on='Nome_consulta_bancada')"
   ]
  },
  {
   "cell_type": "code",
   "execution_count": 15,
   "metadata": {},
   "outputs": [
    {
     "name": "stdout",
     "output_type": "stream",
     "text": [
      "<class 'pandas.core.frame.DataFrame'>\n",
      "Int64Index: 207 entries, 0 to 206\n",
      "Data columns (total 12 columns):\n",
      "Estado_x                  207 non-null object\n",
      "Cargo                     207 non-null object\n",
      "Nome_candidato            207 non-null object\n",
      "CPF                       207 non-null int64\n",
      "Nome_urna                 207 non-null object\n",
      "Partido                   207 non-null object\n",
      "Situacao                  207 non-null object\n",
      "Nome                      207 non-null object\n",
      "Nome_consulta_bancada     207 non-null object\n",
      "Estado_y                  207 non-null object\n",
      "Cargo_bancada_novembro    12 non-null object\n",
      "Partido_novembro          207 non-null object\n",
      "dtypes: int64(1), object(11)\n",
      "memory usage: 21.0+ KB\n"
     ]
    }
   ],
   "source": [
    "bancada_eleitos.info()"
   ]
  },
  {
   "cell_type": "code",
   "execution_count": null,
   "metadata": {},
   "outputs": [],
   "source": []
  },
  {
   "cell_type": "code",
   "execution_count": 16,
   "metadata": {},
   "outputs": [],
   "source": [
    "# O cruzamento mostrou 50 nomes faltando - podem ser nomes com nome urna diferente ou suplentes"
   ]
  },
  {
   "cell_type": "code",
   "execution_count": 17,
   "metadata": {},
   "outputs": [],
   "source": [
    "# Depois descobri que muitos deputados simplesmente trocam o nome como são chamados depois de eleitos"
   ]
  },
  {
   "cell_type": "code",
   "execution_count": 18,
   "metadata": {},
   "outputs": [],
   "source": [
    "# Exemplo: LUIZ CARLOS RAMOS DO CHAPEU, que hoje só usa o nome LUIZ CARLOS RAMOS (http://www.camara.leg.br/internet/deputado/Dep_Detalhe.asp?id=5830522)"
   ]
  },
  {
   "cell_type": "code",
   "execution_count": null,
   "metadata": {},
   "outputs": [],
   "source": []
  },
  {
   "cell_type": "code",
   "execution_count": 19,
   "metadata": {},
   "outputs": [],
   "source": [
    "# Verifica nomes não encontrados"
   ]
  },
  {
   "cell_type": "code",
   "execution_count": 20,
   "metadata": {},
   "outputs": [],
   "source": [
    "# outer: usa união de chaves de ambos os quadros, semelhante a uma junção externa completa do SQL; classificar chaves lexicograficamente\n",
    "# indicator: Se True, adiciona uma coluna para saída DataFrame chamado \"_merge\" com informações sobre a origem de cada linha. Se uma seqüência de caracteres, a coluna com informações sobre a fonte de cada linha será adicionada para saída DataFrame, e a coluna será denominada valor da string. A coluna de informação é de tipo Categorical e assume um valor de \"left_only\" para observações cuja chave de mesclagem só aparece no DataFrame 'esquerdo', \"right_only\" para observações cuja chave de mesclagem aparece apenas no DataFrame 'direito' e \"ambos\" se o A chave de mesclagem da observação é encontrada em ambos."
   ]
  },
  {
   "cell_type": "code",
   "execution_count": 22,
   "metadata": {},
   "outputs": [],
   "source": [
    "naoencontrados = pd.merge(eleitos_d, \n",
    "                        bancada, \n",
    "                        left_on='Nome_urna', \n",
    "                        right_on='Nome_consulta_bancada',\n",
    "                        how='outer',\n",
    "                        indicator=True)"
   ]
  },
  {
   "cell_type": "code",
   "execution_count": 23,
   "metadata": {},
   "outputs": [],
   "source": [
    "# Agrupa apenas pelo lado direito - a lista da bancada"
   ]
  },
  {
   "cell_type": "code",
   "execution_count": 24,
   "metadata": {},
   "outputs": [],
   "source": [
    "rdf = naoencontrados.query(\"_merge == 'right_only'\").drop('_merge',axis=1)"
   ]
  },
  {
   "cell_type": "code",
   "execution_count": 25,
   "metadata": {
    "scrolled": true
   },
   "outputs": [
    {
     "name": "stdout",
     "output_type": "stream",
     "text": [
      "<class 'pandas.core.frame.DataFrame'>\n",
      "Int64Index: 50 entries, 524 to 573\n",
      "Data columns (total 12 columns):\n",
      "Estado_x                  0 non-null object\n",
      "Cargo                     0 non-null object\n",
      "Nome_candidato            0 non-null object\n",
      "CPF                       0 non-null float64\n",
      "Nome_urna                 0 non-null object\n",
      "Partido                   0 non-null object\n",
      "Situacao                  0 non-null object\n",
      "Nome                      50 non-null object\n",
      "Nome_consulta_bancada     50 non-null object\n",
      "Estado_y                  50 non-null object\n",
      "Cargo_bancada_novembro    8 non-null object\n",
      "Partido_novembro          50 non-null object\n",
      "dtypes: float64(1), object(11)\n",
      "memory usage: 5.1+ KB\n"
     ]
    }
   ],
   "source": [
    "rdf.info()"
   ]
  },
  {
   "cell_type": "code",
   "execution_count": 24,
   "metadata": {},
   "outputs": [],
   "source": [
    "rdf.to_csv('naoencontrados_bancada_ruralista.csv')"
   ]
  },
  {
   "cell_type": "code",
   "execution_count": 25,
   "metadata": {},
   "outputs": [],
   "source": [
    "# Nesse ponto fiz uma checagem manual dos 50 nomes, verificando quem não era deputado eleito e atualizando os nomes urna"
   ]
  },
  {
   "cell_type": "code",
   "execution_count": 26,
   "metadata": {},
   "outputs": [],
   "source": [
    "# Depois uni os dois arquivos em um"
   ]
  },
  {
   "cell_type": "code",
   "execution_count": 27,
   "metadata": {},
   "outputs": [],
   "source": [
    "# Repeti o cruzamento e já inclui o CPF para essa base ser cruzada facilmente com outras"
   ]
  },
  {
   "cell_type": "code",
   "execution_count": 26,
   "metadata": {},
   "outputs": [],
   "source": [
    "bancada_ruralista = pd.read_csv(\"dia22_11_bancadaruralista.csv\",sep=',',encoding = 'utf_8')"
   ]
  },
  {
   "cell_type": "code",
   "execution_count": 27,
   "metadata": {},
   "outputs": [
    {
     "name": "stdout",
     "output_type": "stream",
     "text": [
      "<class 'pandas.core.frame.DataFrame'>\n",
      "RangeIndex: 196 entries, 0 to 195\n",
      "Data columns (total 4 columns):\n",
      "Nome_candidato            196 non-null object\n",
      "CPF                       196 non-null int64\n",
      "Nome_urna                 196 non-null object\n",
      "Cargo_bancada_novembro    12 non-null object\n",
      "dtypes: int64(1), object(3)\n",
      "memory usage: 6.2+ KB\n"
     ]
    }
   ],
   "source": [
    "bancada_ruralista.info()"
   ]
  },
  {
   "cell_type": "code",
   "execution_count": null,
   "metadata": {},
   "outputs": [],
   "source": []
  }
 ],
 "metadata": {
  "kernelspec": {
   "display_name": "Python 3",
   "language": "python",
   "name": "python3"
  },
  "language_info": {
   "codemirror_mode": {
    "name": "ipython",
    "version": 3
   },
   "file_extension": ".py",
   "mimetype": "text/x-python",
   "name": "python",
   "nbconvert_exporter": "python",
   "pygments_lexer": "ipython3",
   "version": "3.6.2"
  }
 },
 "nbformat": 4,
 "nbformat_minor": 2
}
