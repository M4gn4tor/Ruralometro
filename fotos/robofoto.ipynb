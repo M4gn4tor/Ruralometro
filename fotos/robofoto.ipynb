{
 "cells": [
  {
   "cell_type": "code",
   "execution_count": 1,
   "metadata": {},
   "outputs": [],
   "source": [
    "# -*- coding: utf-8\n",
    "# Repórter Brasil (http://ruralometro.reporterbrasil.org.br/)\n",
    "# Reinaldo Chaves (@paidatocandeira)\n",
    "# Faz raspagem no site da Câmara dos Deputados para pegar links dos sites de deputados e das fotos dos respectivos e cruza com base do TSE para filtrar apenas os eleitos em 2014 \n",
    "#"
   ]
  },
  {
   "cell_type": "code",
   "execution_count": 2,
   "metadata": {},
   "outputs": [],
   "source": [
    "from urllib.request import urlopen"
   ]
  },
  {
   "cell_type": "code",
   "execution_count": 3,
   "metadata": {},
   "outputs": [],
   "source": [
    "from bs4 import BeautifulSoup"
   ]
  },
  {
   "cell_type": "code",
   "execution_count": 4,
   "metadata": {},
   "outputs": [],
   "source": [
    "import urllib.request, urllib.parse, urllib.error"
   ]
  },
  {
   "cell_type": "code",
   "execution_count": 4,
   "metadata": {},
   "outputs": [],
   "source": [
    "import pandas as pd"
   ]
  },
  {
   "cell_type": "code",
   "execution_count": null,
   "metadata": {},
   "outputs": [],
   "source": []
  },
  {
   "cell_type": "code",
   "execution_count": null,
   "metadata": {},
   "outputs": [],
   "source": [
    "# Função para acessar página, baixa código HTML e abrir um objeto BeautifulSoup\n",
    "def prepara_sopa(url):\n",
    "    html = urlopen(url)\n",
    "    sopa = BeautifulSoup(html, \"lxml\")\n",
    "    return sopa\n",
    "\n",
    "# Função para pegar lista de nomes e números no menu\n",
    "def lista_menu(sopa, selector):\n",
    "    lista_opcoes = sopa.select(selector)[0].find_all(\"option\")\n",
    "    lista = []\n",
    "    for item in lista_opcoes:\n",
    "        lista.append(item.attrs['value']) \n",
    "    return lista\n",
    "\n",
    "# Função que cria URL de cada deputado\n",
    "def gera_url(numero):\n",
    "    link = \"http://www.camara.leg.br/internet/Deputado/dep_Detalhe.asp?id=\" + numero\n",
    "    return link\n",
    "\n",
    "# URL raiz\n",
    "url = \"http://www2.camara.leg.br/deputados/pesquisa\"\n",
    "sopa = prepara_sopa(url)\n",
    "\n",
    "# Seletor do menu\n",
    "seletor_deputados = \"#deputado\"\n",
    "nomes_num = lista_menu(sopa, seletor_deputados)\n",
    "\n",
    "# Iteração para pegar dados dos deputados e limpar informações\n",
    "lista_deputados = []\n",
    "for linha in nomes_num:\n",
    "    tamanho = len(linha)\n",
    "    if tamanho > 0:\n",
    "        localiza1 = linha.find('?')\n",
    "        exato1 = (localiza1-tamanho)+1\n",
    "        numero = linha[exato1:]\n",
    "        #print(numero)\n",
    "        localiza2 = linha.find('|')\n",
    "        exato2 = (localiza2-tamanho)\n",
    "        nome = linha[:exato2]\n",
    "        #print(nome)\n",
    "        endereco = gera_url(numero)\n",
    "        #print(endereco)\n",
    "        # extrai link da foto\n",
    "        sopa = prepara_sopa(endereco)\n",
    "        foto = sopa.find('img', {'class': 'image-left'}).get('src')\n",
    "        #print(foto)\n",
    "        lista_deputados.append([nome, numero, endereco, foto])\n",
    "\n",
    "# Cria dataframe\n",
    "deputados_sites = pd.DataFrame(lista_deputados, columns = ['Nome', 'Num_referencia', 'Link', 'Link_foto'])"
   ]
  },
  {
   "cell_type": "code",
   "execution_count": null,
   "metadata": {},
   "outputs": [],
   "source": []
  },
  {
   "cell_type": "code",
   "execution_count": 7,
   "metadata": {
    "scrolled": true
   },
   "outputs": [
    {
     "name": "stdout",
     "output_type": "stream",
     "text": [
      "<class 'pandas.core.frame.DataFrame'>\n",
      "RangeIndex: 512 entries, 0 to 511\n",
      "Data columns (total 4 columns):\n",
      "Nome              512 non-null object\n",
      "Num_referencia    512 non-null object\n",
      "Link              512 non-null object\n",
      "Link_foto         512 non-null object\n",
      "dtypes: object(4)\n",
      "memory usage: 16.1+ KB\n"
     ]
    }
   ],
   "source": [
    "deputados_sites.info()"
   ]
  },
  {
   "cell_type": "code",
   "execution_count": 9,
   "metadata": {},
   "outputs": [
    {
     "data": {
      "text/html": [
       "<div>\n",
       "<style scoped>\n",
       "    .dataframe tbody tr th:only-of-type {\n",
       "        vertical-align: middle;\n",
       "    }\n",
       "\n",
       "    .dataframe tbody tr th {\n",
       "        vertical-align: top;\n",
       "    }\n",
       "\n",
       "    .dataframe thead th {\n",
       "        text-align: right;\n",
       "    }\n",
       "</style>\n",
       "<table border=\"1\" class=\"dataframe\">\n",
       "  <thead>\n",
       "    <tr style=\"text-align: right;\">\n",
       "      <th></th>\n",
       "      <th>index</th>\n",
       "      <th>Nome</th>\n",
       "      <th>Num_referencia</th>\n",
       "      <th>Link</th>\n",
       "      <th>Link_foto</th>\n",
       "    </tr>\n",
       "  </thead>\n",
       "  <tbody>\n",
       "    <tr>\n",
       "      <th>0</th>\n",
       "      <td>0</td>\n",
       "      <td>ABEL MESQUITA JR.</td>\n",
       "      <td>178957</td>\n",
       "      <td>http://www.camara.leg.br/internet/Deputado/dep...</td>\n",
       "      <td>http://www.camara.gov.br/internet/deputado/ban...</td>\n",
       "    </tr>\n",
       "    <tr>\n",
       "      <th>1</th>\n",
       "      <td>1</td>\n",
       "      <td>ADAIL CARNEIRO</td>\n",
       "      <td>178864</td>\n",
       "      <td>http://www.camara.leg.br/internet/Deputado/dep...</td>\n",
       "      <td>http://www.camara.gov.br/internet/deputado/ban...</td>\n",
       "    </tr>\n",
       "    <tr>\n",
       "      <th>2</th>\n",
       "      <td>2</td>\n",
       "      <td>ADALBERTO CAVALCANTI</td>\n",
       "      <td>178914</td>\n",
       "      <td>http://www.camara.leg.br/internet/Deputado/dep...</td>\n",
       "      <td>http://www.camara.gov.br/internet/deputado/ban...</td>\n",
       "    </tr>\n",
       "    <tr>\n",
       "      <th>3</th>\n",
       "      <td>3</td>\n",
       "      <td>ADELMO CARNEIRO LEÃO</td>\n",
       "      <td>178890</td>\n",
       "      <td>http://www.camara.leg.br/internet/Deputado/dep...</td>\n",
       "      <td>http://www.camara.gov.br/internet/deputado/ban...</td>\n",
       "    </tr>\n",
       "    <tr>\n",
       "      <th>4</th>\n",
       "      <td>4</td>\n",
       "      <td>ADELSON BARRETO</td>\n",
       "      <td>178968</td>\n",
       "      <td>http://www.camara.leg.br/internet/Deputado/dep...</td>\n",
       "      <td>http://www.camara.gov.br/internet/deputado/ban...</td>\n",
       "    </tr>\n",
       "  </tbody>\n",
       "</table>\n",
       "</div>"
      ],
      "text/plain": [
       "   index                  Nome Num_referencia  \\\n",
       "0      0     ABEL MESQUITA JR.         178957   \n",
       "1      1        ADAIL CARNEIRO         178864   \n",
       "2      2  ADALBERTO CAVALCANTI         178914   \n",
       "3      3  ADELMO CARNEIRO LEÃO         178890   \n",
       "4      4       ADELSON BARRETO         178968   \n",
       "\n",
       "                                                Link  \\\n",
       "0  http://www.camara.leg.br/internet/Deputado/dep...   \n",
       "1  http://www.camara.leg.br/internet/Deputado/dep...   \n",
       "2  http://www.camara.leg.br/internet/Deputado/dep...   \n",
       "3  http://www.camara.leg.br/internet/Deputado/dep...   \n",
       "4  http://www.camara.leg.br/internet/Deputado/dep...   \n",
       "\n",
       "                                           Link_foto  \n",
       "0  http://www.camara.gov.br/internet/deputado/ban...  \n",
       "1  http://www.camara.gov.br/internet/deputado/ban...  \n",
       "2  http://www.camara.gov.br/internet/deputado/ban...  \n",
       "3  http://www.camara.gov.br/internet/deputado/ban...  \n",
       "4  http://www.camara.gov.br/internet/deputado/ban...  "
      ]
     },
     "execution_count": 9,
     "metadata": {},
     "output_type": "execute_result"
    }
   ],
   "source": [
    "deputados_sites.head().reset_index()"
   ]
  },
  {
   "cell_type": "code",
   "execution_count": null,
   "metadata": {},
   "outputs": [],
   "source": []
  },
  {
   "cell_type": "code",
   "execution_count": 11,
   "metadata": {},
   "outputs": [],
   "source": [
    "# Cruza com TSE para ter apenas deputados eleitos"
   ]
  },
  {
   "cell_type": "code",
   "execution_count": 12,
   "metadata": {},
   "outputs": [],
   "source": [
    "candidatos = pd.read_csv(\"candidatos_nome_urna_csv.csv\",sep=';',encoding = 'latin_1')"
   ]
  },
  {
   "cell_type": "code",
   "execution_count": 13,
   "metadata": {},
   "outputs": [],
   "source": [
    " eleitos = candidatos[(candidatos['Situacao'] == 'ELEITO POR QP') | (candidatos['Situacao'] == 'ELEITO POR MÉDIA') | (candidatos['Situacao'] == 'ELEITO')]"
   ]
  },
  {
   "cell_type": "code",
   "execution_count": 14,
   "metadata": {},
   "outputs": [],
   "source": [
    "eleitos_d = eleitos[(eleitos['Cargo'] == 'DEPUTADO FEDERAL')]"
   ]
  },
  {
   "cell_type": "code",
   "execution_count": 15,
   "metadata": {},
   "outputs": [
    {
     "name": "stdout",
     "output_type": "stream",
     "text": [
      "<class 'pandas.core.frame.DataFrame'>\n",
      "Int64Index: 513 entries, 23 to 26219\n",
      "Data columns (total 7 columns):\n",
      "Estado            513 non-null object\n",
      "Cargo             513 non-null object\n",
      "Nome_candidato    513 non-null object\n",
      "CPF               513 non-null int64\n",
      "Nome_urna         513 non-null object\n",
      "Partido           513 non-null object\n",
      "Situacao          513 non-null object\n",
      "dtypes: int64(1), object(6)\n",
      "memory usage: 32.1+ KB\n"
     ]
    }
   ],
   "source": [
    "eleitos_d.info()"
   ]
  },
  {
   "cell_type": "code",
   "execution_count": null,
   "metadata": {},
   "outputs": [],
   "source": []
  },
  {
   "cell_type": "code",
   "execution_count": null,
   "metadata": {},
   "outputs": [],
   "source": [
    "# Comparação pelo campo Nome urna da base do TSE, que deveria corresponder com o nome no site da Câmara"
   ]
  },
  {
   "cell_type": "code",
   "execution_count": null,
   "metadata": {},
   "outputs": [],
   "source": [
    "# É a comparação possível porque a base raspada no site não tem o CPF"
   ]
  },
  {
   "cell_type": "code",
   "execution_count": 16,
   "metadata": {},
   "outputs": [],
   "source": [
    "sites_eleitos = pd.merge(deputados_sites, eleitos_d, left_on='Nome', right_on='Nome_urna')"
   ]
  },
  {
   "cell_type": "code",
   "execution_count": 17,
   "metadata": {
    "scrolled": true
   },
   "outputs": [
    {
     "name": "stdout",
     "output_type": "stream",
     "text": [
      "<class 'pandas.core.frame.DataFrame'>\n",
      "Int64Index: 341 entries, 0 to 340\n",
      "Data columns (total 11 columns):\n",
      "Nome              341 non-null object\n",
      "Num_referencia    341 non-null object\n",
      "Link              341 non-null object\n",
      "Link_foto         341 non-null object\n",
      "Estado            341 non-null object\n",
      "Cargo             341 non-null object\n",
      "Nome_candidato    341 non-null object\n",
      "CPF               341 non-null int64\n",
      "Nome_urna         341 non-null object\n",
      "Partido           341 non-null object\n",
      "Situacao          341 non-null object\n",
      "dtypes: int64(1), object(10)\n",
      "memory usage: 32.0+ KB\n"
     ]
    }
   ],
   "source": [
    "sites_eleitos.info()"
   ]
  },
  {
   "cell_type": "code",
   "execution_count": 18,
   "metadata": {},
   "outputs": [],
   "source": [
    "sites_eleitos.to_csv('dia21_11_eleitos.csv')"
   ]
  },
  {
   "cell_type": "code",
   "execution_count": null,
   "metadata": {},
   "outputs": [],
   "source": []
  },
  {
   "cell_type": "code",
   "execution_count": 1,
   "metadata": {},
   "outputs": [],
   "source": [
    "# O cruzamento mostrou 171 nomes faltando - podem ser nomes com nome urna diferente ou suplentes"
   ]
  },
  {
   "cell_type": "code",
   "execution_count": 20,
   "metadata": {},
   "outputs": [],
   "source": [
    "# outer: usa união de chaves de ambos os quadros, semelhante a uma junção externa completa do SQL; classificar chaves lexicograficamente\n",
    "# indicator: Se True, adiciona uma coluna para saída DataFrame chamado \"_merge\" com informações sobre a origem de cada linha. Se uma seqüência de caracteres, a coluna com informações sobre a fonte de cada linha será adicionada para saída DataFrame, e a coluna será denominada valor da string. A coluna de informação é de tipo Categorical e assume um valor de \"left_only\" para observações cuja chave de mesclagem só aparece no DataFrame 'esquerdo', \"right_only\" para observações cuja chave de mesclagem aparece apenas no DataFrame 'direito' e \"ambos\" se o A chave de mesclagem da observação é encontrada em ambos."
   ]
  },
  {
   "cell_type": "code",
   "execution_count": 21,
   "metadata": {},
   "outputs": [],
   "source": [
    "sites_naoeleitos = pd.merge(deputados_sites, \n",
    "                        eleitos_d, \n",
    "                        left_on='Nome', \n",
    "                        right_on='Nome_urna',\n",
    "                        how='outer',\n",
    "                        indicator=True)"
   ]
  },
  {
   "cell_type": "code",
   "execution_count": 22,
   "metadata": {},
   "outputs": [
    {
     "name": "stdout",
     "output_type": "stream",
     "text": [
      "<class 'pandas.core.frame.DataFrame'>\n",
      "Int64Index: 684 entries, 0 to 683\n",
      "Data columns (total 12 columns):\n",
      "Nome              512 non-null object\n",
      "Num_referencia    512 non-null object\n",
      "Link              512 non-null object\n",
      "Link_foto         512 non-null object\n",
      "Estado            513 non-null object\n",
      "Cargo             513 non-null object\n",
      "Nome_candidato    513 non-null object\n",
      "CPF               513 non-null float64\n",
      "Nome_urna         513 non-null object\n",
      "Partido           513 non-null object\n",
      "Situacao          513 non-null object\n",
      "_merge            684 non-null category\n",
      "dtypes: category(1), float64(1), object(10)\n",
      "memory usage: 64.9+ KB\n"
     ]
    }
   ],
   "source": [
    "sites_naoeleitos.info()"
   ]
  },
  {
   "cell_type": "code",
   "execution_count": null,
   "metadata": {},
   "outputs": [],
   "source": []
  },
  {
   "cell_type": "code",
   "execution_count": 20,
   "metadata": {},
   "outputs": [],
   "source": [
    "# Agrupa apenas pelo lado direito - a lista do TSE"
   ]
  },
  {
   "cell_type": "code",
   "execution_count": 49,
   "metadata": {},
   "outputs": [],
   "source": [
    "rdf = sites_naoeleitos.query(\"_merge == 'right_only'\").drop('_merge',axis=1)"
   ]
  },
  {
   "cell_type": "code",
   "execution_count": 50,
   "metadata": {},
   "outputs": [
    {
     "name": "stdout",
     "output_type": "stream",
     "text": [
      "<class 'pandas.core.frame.DataFrame'>\n",
      "Int64Index: 171 entries, 512 to 682\n",
      "Data columns (total 11 columns):\n",
      "Nome              0 non-null object\n",
      "Num_referencia    0 non-null object\n",
      "Link              0 non-null object\n",
      "Link_foto         0 non-null object\n",
      "Estado            171 non-null object\n",
      "Cargo             171 non-null object\n",
      "Nome_candidato    171 non-null object\n",
      "CPF               171 non-null float64\n",
      "Nome_urna         171 non-null object\n",
      "Partido           171 non-null object\n",
      "Situacao          171 non-null object\n",
      "dtypes: float64(1), object(10)\n",
      "memory usage: 16.0+ KB\n"
     ]
    }
   ],
   "source": [
    "rdf.info()"
   ]
  },
  {
   "cell_type": "code",
   "execution_count": 51,
   "metadata": {},
   "outputs": [],
   "source": [
    "rdf.to_csv('dia21_11_nao_encontrados.csv')"
   ]
  },
  {
   "cell_type": "code",
   "execution_count": null,
   "metadata": {},
   "outputs": [],
   "source": [
    "# Nesse ponto fiz uma checagem manual dos 171 nomes, verificando quem não era deputado eleito e atualizando os nomes urna"
   ]
  },
  {
   "cell_type": "code",
   "execution_count": 2,
   "metadata": {},
   "outputs": [],
   "source": [
    "# Depois uni os dois arquivos em um"
   ]
  },
  {
   "cell_type": "code",
   "execution_count": null,
   "metadata": {},
   "outputs": [],
   "source": []
  },
  {
   "cell_type": "code",
   "execution_count": 5,
   "metadata": {},
   "outputs": [],
   "source": [
    "politicos_perfis = pd.read_csv(\"dia21_11_politicos.csv\",sep=',',encoding = 'utf_8')"
   ]
  },
  {
   "cell_type": "code",
   "execution_count": null,
   "metadata": {},
   "outputs": [],
   "source": []
  },
  {
   "cell_type": "code",
   "execution_count": 1,
   "metadata": {},
   "outputs": [],
   "source": [
    "# Função para baixar fotos e salvar com nome dos deputados"
   ]
  },
  {
   "cell_type": "code",
   "execution_count": 13,
   "metadata": {},
   "outputs": [],
   "source": [
    "def baixa_foto(nome, url):\n",
    "\turllib.request.urlretrieve(url, nome)\n",
    "\n",
    "for linha, row in politicos_perfis.iterrows():\n",
    "\tnome = (row['Nome_urna'])\n",
    "\turl = (row['Link_foto'])\n",
    "\tbaixa_foto(nome, url)\t"
   ]
  },
  {
   "cell_type": "code",
   "execution_count": null,
   "metadata": {},
   "outputs": [],
   "source": []
  },
  {
   "cell_type": "code",
   "execution_count": null,
   "metadata": {},
   "outputs": [],
   "source": []
  }
 ],
 "metadata": {
  "kernelspec": {
   "display_name": "Python 3",
   "language": "python",
   "name": "python3"
  },
  "language_info": {
   "codemirror_mode": {
    "name": "ipython",
    "version": 3
   },
   "file_extension": ".py",
   "mimetype": "text/x-python",
   "name": "python",
   "nbconvert_exporter": "python",
   "pygments_lexer": "ipython3",
   "version": "3.6.2"
  }
 },
 "nbformat": 4,
 "nbformat_minor": 2
}
